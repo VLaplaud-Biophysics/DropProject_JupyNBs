{
 "cells": [
  {
   "cell_type": "markdown",
   "metadata": {},
   "source": [
    "# Drop and splash centering\n"
   ]
  },
  {
   "cell_type": "markdown",
   "metadata": {},
   "source": [
    "## Documentation and Imports\n",
    "\n",
    "\n",
    "Created on 27-05-2021\n",
    "\n",
    "Author: Valentin Laplaud\n"
   ]
  },
  {
   "cell_type": "code",
   "execution_count": null,
   "metadata": {
    "code_folding": []
   },
   "outputs": [],
   "source": [
    "# plotting stuff\n",
    "import matplotlib as mpl\n",
    "mpl.use('TkAgg')\n",
    "%matplotlib inline\n",
    "\n",
    "COLOR = 'white'\n",
    "COLOR2 = 'black'\n",
    "\n",
    "mpl.rcParams['text.color'] = COLOR\n",
    "mpl.rcParams['axes.labelcolor'] = COLOR\n",
    "mpl.rcParams['xtick.color'] = COLOR\n",
    "mpl.rcParams['ytick.color'] = COLOR\n",
    "mpl.rcParams['axes.edgecolor'] = COLOR\n",
    "\n",
    "mpl.rcParams[\"figure.facecolor\"] = COLOR2\n",
    "mpl.rcParams[\"axes.facecolor\"] = COLOR2\n",
    "mpl.rcParams[\"savefig.facecolor\"] = COLOR2\n",
    "mpl.rcParams['axes.facecolor'] = COLOR2\n",
    "\n",
    "from matplotlib import cm\n",
    "from matplotlib.colors import ListedColormap\n",
    "import matplotlib.pyplot as plt\n",
    "import matplotlib.path as mpltPath\n",
    "from cycler import cycler\n",
    "#Default colors\n",
    "colorcycle = [plt.get_cmap('gist_rainbow')(1. * i/30) for i in range(30)]\n",
    "mpl.rcParams['axes.prop_cycle'] = cycler(color=colorcycle)\n",
    "\n",
    "# numbers handling\n",
    "import numpy as np\n",
    "import pandas as pd\n",
    "    \n",
    "\n",
    "# signal processing \n",
    "from scipy.signal import savgol_filter, correlate, correlation_lags, find_peaks\n",
    "from scipy.interpolate import interp1d\n",
    "from scipy import optimize\n",
    "\n",
    "# images handling\n",
    "from skimage import io\n",
    "from skimage.filters import threshold_otsu, gaussian, laplace, sobel\n",
    "from skimage.measure import label, regionprops, regionprops_table\n",
    "from skimage.util import invert\n",
    "from skimage.morphology import binary_opening, binary_closing, remove_small_holes,binary_erosion\n",
    "from skimage.color import rgb2gray\n",
    "from skimage.segmentation import active_contour\n",
    "import cv2 as cv\n",
    "\n",
    "# to hide known warnings\n",
    "import warnings\n",
    "warnings.filterwarnings(\"ignore\")\n",
    "\n",
    "# General system functions\n",
    "import os\n",
    "import shutil\n",
    "import sys\n",
    "\n",
    "import time\n",
    "\n",
    "# my functions\n",
    "sys.path.append('../PythonFuncs/')\n",
    "import VallapFunc_DP as vf\n",
    "\n",
    "print('Importations done.')"
   ]
  },
  {
   "cell_type": "markdown",
   "metadata": {},
   "source": [
    "##  Define analysis functions"
   ]
  },
  {
   "cell_type": "markdown",
   "metadata": {},
   "source": [
    "### Find drop and target centers\n",
    "User input is used to identify points on the contours of both the drop and the impacted object. A circle is then fitted to those set of points and from the fitted circles, the centering of the drop is computed."
   ]
  },
  {
   "cell_type": "markdown",
   "metadata": {},
   "source": [
    "#### Identifiying contour points from user input."
   ]
  },
  {
   "cell_type": "code",
   "execution_count": null,
   "metadata": {},
   "outputs": [],
   "source": [
    "def getContourPointsCoordinates(Img,Title, **kwargs):\n",
    "    \n",
    "     #init and read kwargs\n",
    "    AddCircles = False\n",
    "    \n",
    "    for key, value in kwargs.items(): \n",
    "        if key == 'addcircles':\n",
    "            AddCircles = value   \n",
    "        elif key == 'circlespos':\n",
    "            coords = value    \n",
    "        else:\n",
    "            print('Unknown key : ' + key + '. Kwarg ignored.')   \n",
    "        \n",
    "    # ask user to click\n",
    "    %matplotlib qt\n",
    "    fig,ax = plt.subplots(dpi=250)\n",
    "    ax.imshow(Img,cmap='gray')\n",
    "    if AddCircles:\n",
    "        ax.plot(coords[0][0],coords[0][1],'r*')\n",
    "        ax.plot(coords[1][0],coords[1][1],'g*')\n",
    "    fig.suptitle(Title)\n",
    "    pts = np.asarray(plt.ginput(n=-1, timeout=-1))\n",
    "    plt.close()\n",
    "    %matplotlib inline\n",
    "\n",
    "    Xs = pts[:,0]\n",
    "    Ys = pts[:,1]\n",
    "\n",
    "    return(Xs,Ys)\n",
    " "
   ]
  },
  {
   "cell_type": "markdown",
   "metadata": {},
   "source": [
    "#### Fitting circle to get the center"
   ]
  },
  {
   "cell_type": "code",
   "execution_count": null,
   "metadata": {
    "code_folding": []
   },
   "outputs": [],
   "source": [
    "def fitCircle(X,Y):\n",
    "    \n",
    "    x_m = np.mean(X)\n",
    "    y_m = np.mean(Y)    \n",
    "    \n",
    "    def calc_R(xc, yc):\n",
    "\n",
    "        return np.sqrt((X - xc) ** 2 + (Y - yc) ** 2)\n",
    "    \n",
    "    def f_2(c):\n",
    "        \n",
    "        Ri = calc_R(*c)\n",
    "        return Ri - Ri.mean()\n",
    "    \n",
    "    center_estimate = x_m, y_m\n",
    "    center_fit, _ = optimize.leastsq(f_2, center_estimate)\n",
    "\n",
    "    xc_fit, yc_fit = center_fit\n",
    "    Ri_fit       = calc_R(xc_fit, yc_fit)\n",
    "    \n",
    "     #Fitting the radius of the circle\n",
    "    R_fit        = Ri_fit.mean()\n",
    "   \n",
    "    \n",
    "    if False:\n",
    "        fig,ax = plt.subplots(dpi=250, facecolor = 'black')\n",
    "        ax.plot(X,Y,'ro')\n",
    "\n",
    "        xcircle = xc_fit + R_fit*cos(np.linspace(-pi,pi,100))\n",
    "        ycircle = yc_fit + R_fit*sin(np.linspace(-pi,pi,100))\n",
    "        ax.plot(xcircle,ycircle,'k--')\n",
    "\n",
    "    return([xc_fit, yc_fit,R_fit])\n",
    "    \n"
   ]
  },
  {
   "cell_type": "markdown",
   "metadata": {},
   "source": [
    "#### Compute drop centering"
   ]
  },
  {
   "cell_type": "code",
   "execution_count": null,
   "metadata": {},
   "outputs": [],
   "source": [
    "def DropCentering(P,StackList,Scale, **kwargs):     \n",
    "    \n",
    "    SD = pd.DataFrame(data=None,columns=['DropXc','DropYc','DropDiam','TargetXc','TargetYc','TargetDiam','OffCentering','OffCentering_pcDropDiam']) \n",
    "    \n",
    "    #init and read kwargs\n",
    "    DebugPlots = False\n",
    "    \n",
    "    for key, value in kwargs.items(): \n",
    "        if key == 'debug':\n",
    "            DebugPlots = value  \n",
    "        elif key == 'append':\n",
    "            SD = value\n",
    "        else:\n",
    "            print('Unknown key : ' + key + '. Kwarg ignored.')\n",
    "    \n",
    "    for s in StackList:\n",
    "        \n",
    "        ImgD = io.imread(P + '\\\\Impacts\\\\' + s + '_Drop.tif') # get the  image from tiff stack\n",
    "        ImgT = io.imread(P + '\\\\Impacts\\\\' + s + '_Target.tif') # get the  image from tiff stack\n",
    "        \n",
    "        TXs,TYs = getContourPointsCoordinates(ImgT,'Select on the contour of the target (enter button to validate)')\n",
    "        DXs,DYs = getContourPointsCoordinates(ImgD,'Select on the contour of the drop (enter to validate)')\n",
    "        \n",
    "        dropCircle = fitCircle(DXs,DYs)\n",
    "        targetCircle = fitCircle(TXs,TYs)\n",
    "        \n",
    "        dropXc = dropCircle[0]\n",
    "        dropYc = dropCircle[1]\n",
    "        dropR = dropCircle[2]\n",
    "        \n",
    "        targetXc = targetCircle[0]\n",
    "        targetYc = targetCircle[1]\n",
    "        targetR = targetCircle[2]\n",
    "        \n",
    "        OffC= np.sqrt(np.square(dropXc-targetXc)+np.square(dropYc-targetYc))\n",
    "        OffCpc = OffC/dropR/2*100\n",
    "        \n",
    "        data = {'DropXc': dropXc,\n",
    "            'DropYc': dropYc,\n",
    "            'DropDiam': dropR*2/Scale,\n",
    "            'TargetXc': targetXc,\n",
    "            'TargetYc': targetYc,\n",
    "            'TargetDiam': targetR*2/Scale,\n",
    "            'OffCentering': OffC/Scale,\n",
    "            'OffCentering_pcDropDiam': OffCpc} \n",
    "\n",
    "        SD = SD.append(pd.DataFrame(data=data,index = [s]))\n",
    "        \n",
    "        \n",
    "            \n",
    "        t = np.linspace(0,2*np.pi,1000)\n",
    "\n",
    "        fig,ax = plt.subplots(dpi=300,facecolor='black')\n",
    "        fig.suptitle('DropD : ' + str(round(dropR*2/Scale*10)/10) + ' mm. TargetD : ' +\n",
    "                     str(round(targetR*2/Scale*10)/10) + ' mm. \\nOffCent : ' + str(round(OffC/Scale*10)/10) + ' mm.' )\n",
    "        plt.imshow(ImgD,cmap='gray')\n",
    "        ax.plot(targetXc,targetYc,'.g',ms=2)\n",
    "        ax.plot(targetXc+targetR*np.cos(t),targetYc+targetR*np.sin(t),'--g',lw=0.5)\n",
    "        ax.plot(dropXc,dropYc,'.r',ms=2)\n",
    "        ax.plot(dropXc+dropR*np.cos(t),dropYc+dropR*np.sin(t),'--r',lw=0.5)\n",
    "        ax.plot([dropXc, targetXc],[dropYc,targetYc],'c',lw=0.2)\n",
    "        ax.axis('off')      \n",
    "        fig.savefig(P + '\\\\Impacts\\\\'+ s + '_Circles.png')\n",
    "        \n",
    "        if DebugPlots:\n",
    "            plt.show()\n",
    "        else:\n",
    "            plt.close()\n",
    "        \n",
    "    return(SD)"
   ]
  },
  {
   "cell_type": "markdown",
   "metadata": {},
   "source": [
    "### Find splash carac\n",
    "Using snake active contour the shape of the splash is identified.\n",
    "Fit a circle to splashes to find the theoretial center of impact. "
   ]
  },
  {
   "cell_type": "markdown",
   "metadata": {},
   "source": [
    "#### Remove droplets from image"
   ]
  },
  {
   "cell_type": "code",
   "execution_count": null,
   "metadata": {},
   "outputs": [],
   "source": [
    "def removeDroplets(Img):\n",
    "    \n",
    "    binImg = Img>threshold_otsu(Img)\n",
    "    \n",
    "    plt.imshow(binImg,cmap='gray')\n",
    "    plt.show()\n",
    "    \n",
    "    labelImg = label(binImg)\n",
    "    \n",
    "    props = regionprops(labelImg)\n",
    "    \n",
    "    print(props)\n",
    "    "
   ]
  },
  {
   "cell_type": "markdown",
   "metadata": {},
   "source": [
    "#### Detect splash"
   ]
  },
  {
   "cell_type": "code",
   "execution_count": null,
   "metadata": {},
   "outputs": [],
   "source": [
    "def splashCarac(P,StackList,nimgs,SD,Scale, **kwargs):\n",
    "    \n",
    "    if not os.path.exists(P + '\\\\Splashes'):\n",
    "            os.mkdir(P + '\\\\Splashes') # create global folder  \n",
    "          \n",
    "    \n",
    "    #init and read kwargs\n",
    "    DebugPlots = False\n",
    "    \n",
    "    for key, value in kwargs.items(): \n",
    "        if key == 'debug':\n",
    "            DebugPlots = value                       \n",
    "        else:\n",
    "            print('Unknown key : ' + key + '. Kwarg ignored.')\n",
    "    \n",
    "    DD = pd.DataFrame(data=None)           \n",
    "        \n",
    "    for s in StackList:\n",
    "        \n",
    "        print('Analyzing ' + s + '...', end = '\\r')\n",
    "        \n",
    "        if not os.path.exists(P + '\\\\Splashes\\\\' + s):\n",
    "                os.mkdir(P + '\\\\Splashes\\\\' + s) # create global folder \n",
    "        \n",
    "        SplashXcs = np.zeros(len(nimgs))\n",
    "        SplashYcs = np.zeros(len(nimgs))        \n",
    "        SplashRs = np.zeros(len(nimgs))\n",
    "        \n",
    "        for nimg,i in zip(nimgs,range(len(nimgs))): \n",
    "            \n",
    "            print('Analyzing ' + s + '... Img ' + str(nimg), end = '\\r')\n",
    "        \n",
    "            Img = io.imread(P + '\\\\' + s + '_Processed_Cut.tif', key=nimg) # get the  image from tiff stack\n",
    "\n",
    "            DX = SD.loc[s,'DropXc']\n",
    "            DY = SD.loc[s,'DropYc']\n",
    "            DR = SD.loc[s,'DropDiam']/2*Scale\n",
    "\n",
    "            TX = SD.loc[s,'TargetXc']\n",
    "            TY = SD.loc[s,'TargetYc']\n",
    "            TR = SD.loc[s,'TargetDiam']/2*Scale\n",
    "\n",
    "            size = Img.shape\n",
    "\n",
    "            ymax = size[1]\n",
    "            xmax = size[0]\n",
    "\n",
    "            npts = 50\n",
    "            \n",
    "            if (i == 0) | np.isnan(SplashRs[i-1]):\n",
    "                side1 = np.array([np.linspace(0,xmax,npts), np.repeat([0],npts)])\n",
    "                side2 = np.array([np.repeat([xmax],npts), np.linspace(0,ymax,npts)])\n",
    "                side3 = np.array([np.linspace(xmax,0,npts), np.repeat([ymax],npts)])\n",
    "                side4 = np.array([np.repeat([0],npts), np.linspace(ymax,0,npts)])\n",
    "\n",
    "                init = np.concatenate((side1.T,side2.T, side3.T, side4.T))  \n",
    "            else:\n",
    "                t = np.linspace(0,2*np.pi,4*npts)\n",
    "                Y = SplashXcs[i-1]\n",
    "                X = SplashYcs[i-1]       \n",
    "                R = SplashRs[i-1]*1.30*Scale\n",
    "                init = np.array([X+R*np.cos(t), Y+R*np.sin(t)]).T\n",
    "                \n",
    "            \n",
    "            snake = active_contour(Img,init, alpha=0.05, beta = 15, w_line=2, w_edge = 2)\n",
    "\n",
    "            \"\"\"\n",
    "            alpha : float, optional\n",
    "                Snake length shape parameter. Higher values makes snake contract faster.\n",
    "    \n",
    "            beta : float, optional\n",
    "                Snake smoothness shape parameter. Higher values makes snake smoother.\n",
    "\n",
    "            w_line : float, optional\n",
    "                Controls attraction to brightness. Use negative values to attract toward dark regions.\n",
    "\n",
    "            w_edge : float, optional\n",
    "                Controls attraction to edges. Use negative values to repel snake from edges.\n",
    "            \"\"\"          \n",
    "            SXs = snake[:,1]\n",
    "            SYs = snake[:,0]\n",
    "            \n",
    "            \n",
    "            ###### Faire de goodside un angle de 120+°\n",
    "            GoodSide = np.sqrt(np.square(SXs-DX)+np.square(SYs-DY))>np.sqrt(np.square(SXs-TX)+np.square(SYs-TY))\n",
    "            \n",
    "            ##### Ajouté un tri pour ne prendre que les points assez proche du cercle précédents\n",
    "            \n",
    "            \n",
    "            \n",
    "            t = np.linspace(0,2*np.pi,200)\n",
    "\n",
    "            fig, [ax1,ax2] = plt.subplots(ncols = 2,dpi=400)\n",
    "            fig.suptitle('Circular fit on splash ' + s  +'_' + str(nimg))\n",
    "            ax1.imshow(Img, cmap='gray')\n",
    "            ax1.plot(init[:, 1], init[:, 0], '--r', lw=1)\n",
    "            ax1.plot(snake[:, 1], snake[:, 0], '-b', lw=0.8)            \n",
    "            ax1.axis([-5, Img.shape[1]+5, Img.shape[0]+5, -5])    \n",
    "            ax1.set_xticks([])\n",
    "            ax1.set_yticks([]) \n",
    "            ax1.set_title('Splash detection')\n",
    "            ax2.imshow(Img,cmap='gray')\n",
    "            ax2.plot(TX,TY,'.g',ms=2)\n",
    "            ax2.plot(TX+TR*np.cos(t),TY+TR*np.sin(t),'--g',lw=0.5)\n",
    "            ax2.plot(DX,DY,'.r',ms=2)\n",
    "            ax2.plot(DX+DR*np.cos(t),DY+DR*np.sin(t),'--r',lw=0.5)\n",
    "            ax2.plot(SXs[GoodSide],SYs[GoodSide],'*b',ms=0.1)\n",
    "            ax2.axis([0, Img.shape[1], Img.shape[0], 0]) \n",
    "            ax2.set_xticks([])\n",
    "            ax2.set_yticks([])\n",
    "            \n",
    "            if sum(GoodSide)>9:\n",
    "                splashCircle = fitCircle(SXs[GoodSide],SYs[GoodSide])  \n",
    "                SplashXcs[i] = splashCircle[0]\n",
    "                SplashYcs[i] = splashCircle[1]        \n",
    "                SplashRs[i] = splashCircle[2]/Scale                \n",
    "                \n",
    "                ax2.set_title('Fit circle to selected points')\n",
    "                ax2.plot(splashCircle[0],splashCircle[1],'*c',ms=2)\n",
    "                ax2.plot(splashCircle[0]+splashCircle[2]*np.cos(t),splashCircle[1]+splashCircle[2]*np.sin(t),'-c',lw=0.8)\n",
    "                \n",
    "\n",
    "                if DebugPlots:\n",
    "                    plt.show()\n",
    "                else:\n",
    "                    plt.close()\n",
    "                    \n",
    "            else:\n",
    "                SplashXcs[i] = np.nan\n",
    "                SplashYcs[i] = np.nan   \n",
    "                SplashRs[i] = np.nan\n",
    "                ax2.set_title('Not enough points to fit')\n",
    "                \n",
    "               \n",
    "            fig.savefig(P + '\\\\Splashes\\\\'+ s + '\\\\' + str(nimg) + '.png')   \n",
    "                \n",
    "        data = {'SplashXs': SplashXcs,\n",
    "                    'SplashYs': SplashYcs,\n",
    "                    'SplashRs': SplashRs,\n",
    "                    'SplashTargetDist': vf.dist(SplashXcs,SplashYcs,TX,TY)/Scale,\n",
    "                    'SplashDropDist': vf.dist(SplashXcs,SplashYcs,DX,DY)/Scale,\n",
    "                    'frames': nimgs\n",
    "                   }\n",
    "\n",
    "        DD = DD.append(pd.DataFrame(data=data,index = np.repeat(s,len(SplashXcs))))\n",
    "        \n",
    "        \n",
    "        print('Analyzing ' + s + '... Done.'.ljust(10), end = '\\n')\n",
    "        \n",
    "        OffC = SD.loc[s,'OffCentering_pcDropDiam']\n",
    "        fig0, [ax01,ax02] = plt.subplots(ncols=2,dpi=300,facecolor='black')\n",
    "        fig0.suptitle(s + ' - OffC = ' + str(round(OffC*10)/10) + '%')\n",
    "        DD.loc[s].plot(x='frames',y='SplashRs',ax=ax01,style='bo-',legend=None)\n",
    "        ax01.set_ylabel('Splash radius (mm)')    \n",
    "        ax01.set_xlabel('Frames since impact')\n",
    "        DD.loc[s].plot(x='frames',y='SplashTargetDist',ax=ax02,style='go-',legend=None)\n",
    "        ax02.set_ylabel('Splash center distance from target (mm)')  \n",
    "        ax02.set_xlabel('Frames since impact')     \n",
    "        plt.tight_layout()\n",
    "        fig0.savefig(P210702 + '\\\\Splashes\\\\'+ s + '_SplashCarac.png')\n",
    "        \n",
    "    return(DD)\n",
    "            "
   ]
  },
  {
   "cell_type": "markdown",
   "metadata": {},
   "source": [
    "##  Enter data and run"
   ]
  },
  {
   "cell_type": "markdown",
   "metadata": {},
   "source": [
    "### Data details"
   ]
  },
  {
   "cell_type": "code",
   "execution_count": null,
   "metadata": {},
   "outputs": [],
   "source": [
    "###### Experiment of the 02-07-2021, P/C-CO-D3 with lab prints from the 14/04, 3mm diam, 12mm height\n",
    "\n",
    "# Spatial scale (px/mm)\n",
    "Scale210702 = 11.20 \n",
    "\n",
    "# Frames per second\n",
    "FPS210702 = 10000 \n",
    "\n",
    "# Paths to data\n",
    "P210702 = r'D:\\Users\\laplaud\\Desktop\\PostDoc\\Data\\SplashCups\\2021.07.02'\n",
    "\n",
    "# List of videos to analyze\n",
    "StackList210702 = ['PC0_6','CC0_1']\n",
    "SplashList210702 = ['PC0_6','CC0_1']\n",
    "\n",
    "print('Data choice made.')"
   ]
  },
  {
   "cell_type": "markdown",
   "metadata": {},
   "source": [
    "### Run "
   ]
  },
  {
   "cell_type": "markdown",
   "metadata": {},
   "source": [
    "#### Drop centers"
   ]
  },
  {
   "cell_type": "code",
   "execution_count": null,
   "metadata": {
    "scrolled": false
   },
   "outputs": [],
   "source": [
    "SplashData210702 = DropCentering(P210702,StackList210702,Scale210702, debug=True)"
   ]
  },
  {
   "cell_type": "code",
   "execution_count": null,
   "metadata": {},
   "outputs": [],
   "source": [
    "##### Intermediary saving\n",
    "SplashData210702.to_csv(P210702 + '\\\\SplashData210702_Circles.csv',index_label = 'Ind')"
   ]
  },
  {
   "cell_type": "markdown",
   "metadata": {},
   "source": [
    "#### Splash carac"
   ]
  },
  {
   "cell_type": "code",
   "execution_count": null,
   "metadata": {},
   "outputs": [],
   "source": [
    "##### Intermediary loading\n",
    "SplashData210702 = pd.read_csv(P210702 + '\\\\SplashData210702_Circles.csv',index_col = 'Ind')"
   ]
  },
  {
   "cell_type": "code",
   "execution_count": null,
   "metadata": {
    "scrolled": false
   },
   "outputs": [],
   "source": [
    "DynamicData210702 = splashCarac(P210702,SplashList210702,np.arange(5,50),SplashData210702,Scale210702, debug = True)"
   ]
  },
  {
   "cell_type": "markdown",
   "metadata": {},
   "source": [
    "### Saving"
   ]
  },
  {
   "cell_type": "code",
   "execution_count": null,
   "metadata": {},
   "outputs": [],
   "source": [
    "DynamicData210702.to_csv(P210702 + '\\\\DynamicData210702.csv',index_label = 'Ind')"
   ]
  },
  {
   "cell_type": "markdown",
   "metadata": {},
   "source": [
    "## Test Zone"
   ]
  },
  {
   "cell_type": "code",
   "execution_count": null,
   "metadata": {},
   "outputs": [],
   "source": []
  }
 ],
 "metadata": {
  "kernelspec": {
   "display_name": "Python 3 (ipykernel)",
   "language": "python",
   "name": "python3"
  },
  "language_info": {
   "codemirror_mode": {
    "name": "ipython",
    "version": 3
   },
   "file_extension": ".py",
   "mimetype": "text/x-python",
   "name": "python",
   "nbconvert_exporter": "python",
   "pygments_lexer": "ipython3",
   "version": "3.11.4"
  },
  "toc": {
   "base_numbering": 1,
   "nav_menu": {},
   "number_sections": true,
   "sideBar": true,
   "skip_h1_title": true,
   "title_cell": "Table of Contents",
   "title_sidebar": "Contents",
   "toc_cell": false,
   "toc_position": {
    "height": "calc(100% - 180px)",
    "left": "10px",
    "top": "150px",
    "width": "384px"
   },
   "toc_section_display": true,
   "toc_window_display": true
  }
 },
 "nbformat": 4,
 "nbformat_minor": 4
}
