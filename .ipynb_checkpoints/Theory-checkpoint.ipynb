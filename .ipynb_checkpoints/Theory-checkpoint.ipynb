{
 "cells": [
  {
   "cell_type": "markdown",
   "metadata": {},
   "source": [
    "# Splash dynamics on a cone surface\n"
   ]
  },
  {
   "cell_type": "markdown",
   "metadata": {},
   "source": [
    "\n",
    "## Documentation and Imports\n",
    "\n",
    "\n",
    "Created on 27-07-21\n",
    "\n",
    "Author: Valentin Laplaud\n",
    "\n",
    "Formulas and graphs describing the dynamics of a drop splashing on a cone"
   ]
  },
  {
   "cell_type": "code",
   "execution_count": null,
   "metadata": {},
   "outputs": [],
   "source": [
    "# plotting stuff\n",
    "import matplotlib as mpl\n",
    "mpl.use('TkAgg')\n",
    "%matplotlib inline\n",
    "\n",
    "COLOR = 'white'\n",
    "COLOR2 = 'black'\n",
    "\n",
    "mpl.rcParams['text.color'] = COLOR\n",
    "mpl.rcParams['axes.labelcolor'] = COLOR\n",
    "mpl.rcParams['xtick.color'] = COLOR\n",
    "mpl.rcParams['ytick.color'] = COLOR\n",
    "mpl.rcParams['axes.edgecolor'] = COLOR\n",
    "\n",
    "mpl.rcParams[\"figure.facecolor\"] = COLOR2\n",
    "mpl.rcParams[\"axes.facecolor\"] = COLOR2\n",
    "mpl.rcParams[\"savefig.facecolor\"] = COLOR2\n",
    "\n",
    "import matplotlib.pyplot as plt\n",
    "from cycler import cycler\n",
    "\n",
    "\n",
    "# numbers handling\n",
    "import numpy as np\n",
    "from numpy import pi\n",
    "import pandas as pd\n",
    "\n",
    "# signal processing \n",
    "from scipy.signal import savgol_filter, correlate, correlation_lags\n",
    "from scipy.interpolate import interp1d\n",
    "\n",
    "\n",
    "# to hide known warnings\n",
    "import warnings\n",
    "warnings.filterwarnings(\"ignore\")\n",
    "\n",
    "# General system functions\n",
    "import os\n",
    "import shutil\n",
    "import sys\n",
    "\n",
    "import time\n",
    "\n",
    "# my functions\n",
    "sys.path.append('../PythonFuncs/')\n",
    "import VallapFunc_DP as vf\n",
    "import DropGeometryClasses as dgc\n",
    "import DropGeometryFuncs as dgf\n",
    "import ImpactSimulationFuncs as isf\n"
   ]
  },
  {
   "cell_type": "markdown",
   "metadata": {},
   "source": [
    "## Drop impact characteristics"
   ]
  },
  {
   "cell_type": "markdown",
   "metadata": {
    "heading_collapsed": true
   },
   "source": [
    "### Top view schematics"
   ]
  },
  {
   "cell_type": "code",
   "execution_count": null,
   "metadata": {
    "hidden": true
   },
   "outputs": [],
   "source": [
    "# Xc = 0\n",
    "# Yc = 0\n",
    "# Rc = 5\n",
    "\n",
    "# Xd = 6\n",
    "# Yd = 0\n",
    "# Rd = 4\n",
    "\n",
    "# r = vf.dist(Xd,Yd,Xc,Yc)\n",
    "\n",
    "\n",
    "# tx = np.linspace(0,2*pi,100)\n",
    "\n",
    "# fig,ax = plt.subplots(dpi=600)\n",
    "# ax.set_aspect('equal', adjustable='box') \n",
    "# ax.axis('off')\n",
    "\n",
    "# # Cone\n",
    "# ax.plot(Xc,Yc,'ow',ms = 2)\n",
    "# ax.plot(Xc + Rc*np.cos(tx),Yc + Rc*np.sin(tx), '-w')\n",
    "# ax.plot([Xc, Xc + Rc*np.cos(tx[30])], [Yc, Yc + Rc*np.sin(tx[30])], '--w', lw = 0.5)\n",
    "# ax.text(Xc + Rc*np.cos(tx[36])/2,Yc+ Rc*np.sin(tx[36])/2, 'Rc', c = 'w', size = Rc*2)\n",
    "\n",
    "\n",
    "# # Drop\n",
    "# ax.plot(Xd,Yd,'ob',ms = 2)\n",
    "# ax.plot(Xd + Rd*np.cos(tx),Yd + Rd*np.sin(tx), '-b')\n",
    "# ax.plot([Xd, Xd + Rd*np.cos(tx[90])], [Yd, Yd + Rd*np.sin(tx[90])], '--b', lw = 0.5)\n",
    "# ax.text(Xd + Rd*np.cos(tx[93])/2,Yd + Rd*np.sin(tx[93])/2, 'Rd', c = 'b', size = Rd*2)\n",
    "\n",
    "# # Geometry definition\n",
    "# ax.plot([Xc, Xd], [Yc, Yd], '--r', lw = 0.5, zorder = -1)\n",
    "# ax.text((Xc+Xd)/2,(Yc+Yd)/2+Rd/10,'r', c= 'r', size = 10);\n"
   ]
  },
  {
   "cell_type": "markdown",
   "metadata": {
    "heading_collapsed": true
   },
   "source": [
    "### Adimensional numbers"
   ]
  },
  {
   "cell_type": "code",
   "execution_count": null,
   "metadata": {
    "hidden": true
   },
   "outputs": [],
   "source": [
    "# ### Parameters\n",
    "# V = 4 # [m/s] drop impact speed\n",
    "# L = 0.003 # [m] cone diameter\n",
    "# rho = 1000 # [kg/m3] water density\n",
    "# mu = 0.001 # [Pa.s] water viscosity\n",
    "# gamma = 0.07 # [N/m] water surface tension\n",
    "# g = 9.8 # [m/s²] gravity constant\n",
    "\n",
    "# ### Adimensional numbers\n",
    "\n",
    "# # Reynolds (viscosity vs. intertia)\n",
    "# Re = rho*V*L/mu\n",
    "# print('Reynolds = ' + str(Re))\n",
    "\n",
    "# # Weber (capilarity vs. inertia)\n",
    "# We = rho*L*V**2/gamma\n",
    "# print('Weber = ' + str(We))\n",
    "\n",
    "# # Froude (gravity vs. intertia)\n",
    "# Fr = V/np.sqrt(g*L)\n",
    "# print('Froude = ' + str(Fr))"
   ]
  },
  {
   "cell_type": "markdown",
   "metadata": {
    "heading_collapsed": true
   },
   "source": [
    "### Plots of fall probability\n"
   ]
  },
  {
   "cell_type": "code",
   "execution_count": null,
   "metadata": {
    "hidden": true,
    "scrolled": false
   },
   "outputs": [],
   "source": [
    "\n",
    "# dropR = 3\n",
    "# coneR = 4 # Cone radius\n",
    "# Alpha = pi/4 # Cone vertical angle\n",
    "\n",
    "# xcircle = coneR*np.cos(np.linspace(0,2*pi,100))\n",
    "# ycircle = coneR*np.sin(np.linspace(0,2*pi,100))\n",
    "# xgrid = np.arange(-(coneR+dropR), coneR+dropR, 0.1)\n",
    "# ygrid = np.arange(-(coneR+dropR), coneR+dropR, 0.1)\n",
    "# xx, yy = np.meshgrid(xgrid, ygrid)\n",
    "# mask = np.sqrt(xx**2+yy**2)<(coneR+dropR)\n",
    "# z = dgf.ProbaFall(np.sqrt(xx[mask]**2+yy[mask]**2),dropR,coneR)\n",
    "\n",
    "\n",
    "# ### Drop-Cone distance\n",
    "# rstep = (coneR+dropR)/98\n",
    "# nstep = int(np.ceil((coneR+dropR)/rstep))\n",
    "# r = np.linspace(rstep/2,coneR+dropR-3*rstep/2,nstep) # impact position\n",
    "# Pr = dgf.ProbaFall(r,dropR,coneR)\n",
    "\n",
    "\n",
    "# # probability of falling at a certain distance of the cone center\n",
    "# fig10,ax10 = plt.subplots(dpi = 500)\n",
    "# fig10.suptitle(\"Probability of falling at a distance 'r' from the center \\n dropR = \" + str(dropR) + \" mm, coneR = \" + str(coneR) + \" mm. \")\n",
    "# ax10.plot(r/(coneR+dropR)*100,Pr,'o', ms = 1)\n",
    "# ax10.set_xlabel(' r  [% of (coneR+dropR)]');\n",
    "# ax10.set_ylabel('Probability [%]');\n",
    "# fig10.tight_layout()\n",
    "\n",
    "# fig11, ax11 = plt.subplots(dpi = 500)\n",
    "# ax11.set_aspect('equal', adjustable='box')\n",
    "# ax11.set_xlabel('X')\n",
    "# ax11.set_ylabel('Y')\n",
    "# fig11.suptitle(\"Probability of falling at a distance 'r' from the center \\n dropR = \" + str(dropR) + \" mm, coneR = \" + str(coneR) + \" mm. \")\n",
    "\n",
    "\n",
    "# ax11.plot(xcircle,ycircle,'-w')\n",
    "# sc11 = ax11.scatter(xx[mask],yy[mask],c=z,s=1,cmap='jet')\n",
    "# fig11.colorbar(sc11, ax = ax11, label = 'proba (%)',shrink = 0.6)\n"
   ]
  },
  {
   "cell_type": "markdown",
   "metadata": {},
   "source": [
    "## Simulations"
   ]
  },
  {
   "cell_type": "code",
   "execution_count": null,
   "metadata": {},
   "outputs": [],
   "source": [
    "savepath = r'D:\\Users\\laplaud\\Desktop\\PostDoc\\Data\\SplashCups\\Model\\Images'"
   ]
  },
  {
   "cell_type": "markdown",
   "metadata": {
    "heading_collapsed": true
   },
   "source": [
    "### Defining drops and cones"
   ]
  },
  {
   "cell_type": "code",
   "execution_count": null,
   "metadata": {
    "hidden": true
   },
   "outputs": [],
   "source": [
    "# ## Definig diverse drops and cones\n",
    "\n",
    "# D0 = dgc.Drop(2.9,0.2,30,4)\n",
    "# D1 = dgc.Drop(2.9,1.5,30,4)\n",
    "# D2 = dgc.Drop(2.9,2.5,30,4)\n",
    "# D3 = dgc.Drop(2.9,3.5,30,4)\n",
    "# D4 = dgc.Drop(2.9,4.5,30,4)\n",
    "# D5 = dgc.Drop(2.9,5.5,30,4)\n",
    "# D6 = dgc.Drop(2.9,6.5,30,4)\n",
    "# D7 = dgc.Drop(2.9,7.5,30,4)\n",
    "\n",
    "# P = dgc.Cone(2.7,np.pi/2) # flat pillar\n",
    "\n",
    "# # Experimental cones\n",
    "# C45_27 = dgc.Cone(2.7,np.pi/4) \n",
    "# C45_35 = dgc.Cone(3.5,np.pi/4) \n",
    "# C45_54 = dgc.Cone(5.4,np.pi/4) \n",
    "\n",
    "# C60 = dgc.Cone(5,np.pi/3)\n",
    "# C30 = dgc.Cone(5,np.pi/6)\n",
    "\n"
   ]
  },
  {
   "cell_type": "markdown",
   "metadata": {
    "heading_collapsed": true
   },
   "source": [
    "### Computing impacts"
   ]
  },
  {
   "cell_type": "code",
   "execution_count": null,
   "metadata": {
    "hidden": true
   },
   "outputs": [],
   "source": [
    "\n",
    "# I_D0_C45 = C45_35.impact(D0)\n",
    "# I_D4_C45 = C45_27.impact(D2)\n",
    "\n",
    "\n",
    "# I_D4_P = P.impact(D4)\n",
    "# I_D1_C30 = C30.impact(D1)\n",
    "# I_D1_C60 = C60.impact(D1)\n",
    "\n",
    "\n",
    "# I_D2_C45 = C45_27.impact(D2)\n",
    "# I_D3_C45 = C45_27.impact(D3)\n",
    "# I_D4_C45 = C45_27.impact(D4)\n",
    "# I_D5_C45 = C45_27.impact(D5)\n",
    "# I_D6_C45 = C45_27.impact(D6)\n",
    "# I_D7_C45 = C45_27.impact(D7)\n"
   ]
  },
  {
   "cell_type": "markdown",
   "metadata": {},
   "source": [
    "### Plots"
   ]
  },
  {
   "cell_type": "markdown",
   "metadata": {},
   "source": [
    "#### Impact visualizations"
   ]
  },
  {
   "cell_type": "code",
   "execution_count": null,
   "metadata": {
    "scrolled": false
   },
   "outputs": [],
   "source": [
    "\n",
    "# dgc.Cone(3,np.pi/6).impact(dgc.Drop(2.9,3.5,50,4)).plot_3Dview()\n",
    "\n",
    "# # C45_27.draw(nolabels=True,dropview = 'impact',drop=D3,title='45° cone + D1')\n",
    "# # I_D1_C45.plot_JetFrac(title='Drop fraction in the jet, cone of 45°',nolabels=True)\n",
    "\n",
    "\n",
    "# I_D1_C45.plot_splash_traj(np.linspace(0,3.5,50),nolabels=True,title='Cone of 45°')\n",
    "\n",
    "# I_D2_C45.plot_splash_traj(np.linspace(0,3,50),nolabels=True,title='Cone of 45°')\n",
    "\n",
    "# I_D3_C45.plot_splash_traj(np.linspace(0,2.5,50),nolabels=True,title='Cone of 45°')\n",
    "\n",
    "# I_D4_C45.plot_splash_traj(np.linspace(0,2,50),nolabels=True,title='Cone of 45°')\n",
    "\n",
    "# # I_D5_C45.plot_splash_traj(np.linspace(0,3,3),nolabels=True,title='Cone of 45°')\n",
    "\n",
    "# # I_D6_C45.plot_splash_traj(np.linspace(0,3,3),nolabels=True,title='Cone of 45°')\n",
    "\n",
    "\n"
   ]
  },
  {
   "cell_type": "markdown",
   "metadata": {},
   "source": [
    "#### Quantifications"
   ]
  },
  {
   "cell_type": "code",
   "execution_count": null,
   "metadata": {
    "scrolled": false
   },
   "outputs": [],
   "source": [
    "# Angle = np.pi/4 # [rad]\n",
    "# npts = 20\n",
    "# DropDiam = 3 # Diameter in [mm]\n",
    "# ConeDiams = np.linspace(2,6,5) # Diameter in [mm]\n",
    "# # ConeDiams = [3] # Diameter in [mm]\n",
    "\n",
    "\n",
    "# isf.plotFracs(Angle,npts,DropDiam,ConeDiams)"
   ]
  },
  {
   "cell_type": "code",
   "execution_count": null,
   "metadata": {},
   "outputs": [],
   "source": [
    "# Angle = np.pi/4 # [rad]\n",
    "# npts = 50\n",
    "# ConeDiam = 3 # Diameter in [mm]\n",
    "\n",
    "# RelDropDiams = np.linspace(0.1,2,npts)\n",
    "\n",
    "# RelOffCents = np.linspace(0.05,3,npts)\n",
    "\n",
    "# f0,f1 = isf.PhaseDiagrams(Angle,ConeDiam,RelDropDiams,RelOffCents)\n",
    "\n",
    "# f0.savefig(r'd:\\Users\\laplaud\\Desktop\\PostDoc\\Code\\DropProject_WithAna\\Figures\\PhsDgm_JetFrac.png')\n",
    "# f1.savefig(r'd:\\Users\\laplaud\\Desktop\\PostDoc\\Code\\DropProject_WithAna\\Figures\\PhsDgm_VolRatio.png')"
   ]
  },
  {
   "cell_type": "markdown",
   "metadata": {},
   "source": [
    "## Test Zone"
   ]
  },
  {
   "cell_type": "markdown",
   "metadata": {},
   "source": [
    "### Ana's experimental data"
   ]
  },
  {
   "cell_type": "code",
   "execution_count": null,
   "metadata": {},
   "outputs": [],
   "source": [
    "# data = pd.read_csv(r'd:\\Users\\laplaud\\Desktop\\PostDoc\\Data\\SplashCups\\DataAna\\all_angles.csv')"
   ]
  },
  {
   "cell_type": "code",
   "execution_count": null,
   "metadata": {},
   "outputs": [],
   "source": [
    "# data = data.loc[(data['angle[degrees]']==45) &( data['IdealDiam[mm]']==2.7)]\n",
    "# data"
   ]
  },
  {
   "cell_type": "code",
   "execution_count": null,
   "metadata": {
    "scrolled": true
   },
   "outputs": [],
   "source": [
    "# Rds = data['DropDiam'].values/2\n",
    "# # Rcs = data['TargetDiam'].values\n",
    "# OffCs = data['OffCentering'].values\n",
    "# Names = data['Ind.1']"
   ]
  },
  {
   "cell_type": "code",
   "execution_count": null,
   "metadata": {},
   "outputs": [],
   "source": [
    "# Drops = [dgc.Drop(Rd,OffC,35,5) for Rd,OffC in zip(Rds,OffCs)]\n",
    "# C45 = dgc.Cone(2.7/2,np.pi/4)\n",
    "# Impacts = [C45.impact(D) for D in Drops]"
   ]
  },
  {
   "cell_type": "code",
   "execution_count": null,
   "metadata": {},
   "outputs": [],
   "source": [
    "# C45.impact(dgc.Drop(1.8,0.315,60,5)).plot_splash_traj(np.linspace(0,10,51),nolabels=True)"
   ]
  },
  {
   "cell_type": "code",
   "execution_count": null,
   "metadata": {
    "scrolled": false
   },
   "outputs": [],
   "source": [
    "# for t,i in zip(np.linspace(0,10,51),np.linspace(0,50,51)):\n",
    "#     f,a = C45.impact(dgc.Drop(1.8,0.315,300,5)).plot_splash_traj([t],nolabels=True)\n",
    "    \n",
    "#     f.savefig(r'd:\\Users\\laplaud\\Desktop\\PostDoc\\Code\\DropProject_WithAna\\TestFilm2\\\\' + str(i) + '.png' )\n",
    "#     plt.close(f)"
   ]
  },
  {
   "cell_type": "code",
   "execution_count": null,
   "metadata": {
    "scrolled": false
   },
   "outputs": [],
   "source": [
    "# for I,name in zip(Impacts,Names):\n",
    "#     I.plot_splash_traj(np.linspace(0,5,5),nolabels=False,title=name)\n",
    "\n",
    "# Impacts[0].plot_splash_traj(np.linspace(0,4.5,15),nolabels=False)"
   ]
  },
  {
   "cell_type": "code",
   "execution_count": null,
   "metadata": {},
   "outputs": [],
   "source": []
  }
 ],
 "metadata": {
  "kernelspec": {
   "display_name": "Python 3 (ipykernel)",
   "language": "python",
   "name": "python3"
  },
  "language_info": {
   "codemirror_mode": {
    "name": "ipython",
    "version": 3
   },
   "file_extension": ".py",
   "mimetype": "text/x-python",
   "name": "python",
   "nbconvert_exporter": "python",
   "pygments_lexer": "ipython3",
   "version": "3.11.4"
  },
  "toc": {
   "base_numbering": 1,
   "nav_menu": {},
   "number_sections": true,
   "sideBar": true,
   "skip_h1_title": true,
   "title_cell": "Table of Contents",
   "title_sidebar": "Contents",
   "toc_cell": false,
   "toc_position": {
    "height": "958.767px",
    "left": "65px",
    "top": "90px",
    "width": "413.65px"
   },
   "toc_section_display": true,
   "toc_window_display": true
  }
 },
 "nbformat": 4,
 "nbformat_minor": 4
}
