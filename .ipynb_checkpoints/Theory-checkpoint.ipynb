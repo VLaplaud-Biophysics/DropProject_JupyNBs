{
 "cells": [
  {
   "cell_type": "markdown",
   "metadata": {},
   "source": [
    "# Splash dynamics on a cone surface\n"
   ]
  },
  {
   "cell_type": "markdown",
   "metadata": {},
   "source": [
    "\n",
    "## Documentation and Imports\n",
    "\n",
    "\n",
    "Created on 27-07-21\n",
    "\n",
    "Author: Valentin Laplaud\n",
    "\n",
    "Formulas and graphs describing the dynamics of a drop splashing on a cone"
   ]
  },
  {
   "cell_type": "code",
   "execution_count": 1,
   "metadata": {},
   "outputs": [],
   "source": [
    "# plotting stuff\n",
    "import matplotlib as mpl\n",
    "mpl.use('TkAgg')\n",
    "%matplotlib inline\n",
    "\n",
    "COLOR = 'white'\n",
    "COLOR2 = 'black'\n",
    "\n",
    "mpl.rcParams['text.color'] = COLOR\n",
    "mpl.rcParams['axes.labelcolor'] = COLOR\n",
    "mpl.rcParams['xtick.color'] = COLOR\n",
    "mpl.rcParams['ytick.color'] = COLOR\n",
    "mpl.rcParams['axes.edgecolor'] = COLOR\n",
    "\n",
    "mpl.rcParams[\"figure.facecolor\"] = COLOR2\n",
    "mpl.rcParams[\"axes.facecolor\"] = COLOR2\n",
    "mpl.rcParams[\"savefig.facecolor\"] = COLOR2\n",
    "\n",
    "import matplotlib.pyplot as plt\n",
    "from cycler import cycler\n",
    "\n",
    "\n",
    "# numbers handling\n",
    "import numpy as np\n",
    "from numpy import pi\n",
    "import pandas as pd\n",
    "\n",
    "# signal processing \n",
    "from scipy.signal import savgol_filter, correlate, correlation_lags\n",
    "from scipy.interpolate import interp1d\n",
    "\n",
    "\n",
    "# to hide known warnings\n",
    "import warnings\n",
    "warnings.filterwarnings(\"ignore\")\n",
    "\n",
    "# General system functions\n",
    "import os\n",
    "import shutil\n",
    "import sys\n",
    "\n",
    "import time\n",
    "\n",
    "# my functions\n",
    "sys.path.append('../PythonFuncs/')\n",
    "import VallapFunc_DP as vf\n",
    "import DropGeometryClasses as dgc\n",
    "import DropGeometryFuncs as dgf\n",
    "import ImpactSimulationFuncs as isf\n"
   ]
  },
  {
   "cell_type": "markdown",
   "metadata": {},
   "source": [
    "## Drop impact characteristics"
   ]
  },
  {
   "cell_type": "markdown",
   "metadata": {
    "heading_collapsed": true
   },
   "source": [
    "### Top view schematics"
   ]
  },
  {
   "cell_type": "code",
   "execution_count": 2,
   "metadata": {
    "hidden": true
   },
   "outputs": [],
   "source": [
    "# Xc = 0\n",
    "# Yc = 0\n",
    "# Rc = 5\n",
    "\n",
    "# Xd = 6\n",
    "# Yd = 0\n",
    "# Rd = 4\n",
    "\n",
    "# r = vf.dist(Xd,Yd,Xc,Yc)\n",
    "\n",
    "\n",
    "# tx = np.linspace(0,2*pi,100)\n",
    "\n",
    "# fig,ax = plt.subplots(dpi=600)\n",
    "# ax.set_aspect('equal', adjustable='box') \n",
    "# ax.axis('off')\n",
    "\n",
    "# # Cone\n",
    "# ax.plot(Xc,Yc,'ow',ms = 2)\n",
    "# ax.plot(Xc + Rc*np.cos(tx),Yc + Rc*np.sin(tx), '-w')\n",
    "# ax.plot([Xc, Xc + Rc*np.cos(tx[30])], [Yc, Yc + Rc*np.sin(tx[30])], '--w', lw = 0.5)\n",
    "# ax.text(Xc + Rc*np.cos(tx[36])/2,Yc+ Rc*np.sin(tx[36])/2, 'Rc', c = 'w', size = Rc*2)\n",
    "\n",
    "\n",
    "# # Drop\n",
    "# ax.plot(Xd,Yd,'ob',ms = 2)\n",
    "# ax.plot(Xd + Rd*np.cos(tx),Yd + Rd*np.sin(tx), '-b')\n",
    "# ax.plot([Xd, Xd + Rd*np.cos(tx[90])], [Yd, Yd + Rd*np.sin(tx[90])], '--b', lw = 0.5)\n",
    "# ax.text(Xd + Rd*np.cos(tx[93])/2,Yd + Rd*np.sin(tx[93])/2, 'Rd', c = 'b', size = Rd*2)\n",
    "\n",
    "# # Geometry definition\n",
    "# ax.plot([Xc, Xd], [Yc, Yd], '--r', lw = 0.5, zorder = -1)\n",
    "# ax.text((Xc+Xd)/2,(Yc+Yd)/2+Rd/10,'r', c= 'r', size = 10);\n"
   ]
  },
  {
   "cell_type": "markdown",
   "metadata": {
    "heading_collapsed": true
   },
   "source": [
    "### Adimensional numbers"
   ]
  },
  {
   "cell_type": "code",
   "execution_count": 3,
   "metadata": {
    "hidden": true
   },
   "outputs": [],
   "source": [
    "# ### Parameters\n",
    "# V = 4 # [m/s] drop impact speed\n",
    "# L = 0.003 # [m] cone diameter\n",
    "# rho = 1000 # [kg/m3] water density\n",
    "# mu = 0.001 # [Pa.s] water viscosity\n",
    "# gamma = 0.07 # [N/m] water surface tension\n",
    "# g = 9.8 # [m/s²] gravity constant\n",
    "\n",
    "# ### Adimensional numbers\n",
    "\n",
    "# # Reynolds (viscosity vs. intertia)\n",
    "# Re = rho*V*L/mu\n",
    "# print('Reynolds = ' + str(Re))\n",
    "\n",
    "# # Weber (capilarity vs. inertia)\n",
    "# We = rho*L*V**2/gamma\n",
    "# print('Weber = ' + str(We))\n",
    "\n",
    "# # Froude (gravity vs. intertia)\n",
    "# Fr = V/np.sqrt(g*L)\n",
    "# print('Froude = ' + str(Fr))"
   ]
  },
  {
   "cell_type": "markdown",
   "metadata": {},
   "source": [
    "### Plots of fall probability\n"
   ]
  },
  {
   "cell_type": "code",
   "execution_count": 4,
   "metadata": {
    "scrolled": false
   },
   "outputs": [],
   "source": [
    "\n",
    "# dropR = 3\n",
    "# coneR = 4 # Cone radius\n",
    "# Alpha = pi/4 # Cone vertical angle\n",
    "\n",
    "# xcircle = coneR*np.cos(np.linspace(0,2*pi,100))\n",
    "# ycircle = coneR*np.sin(np.linspace(0,2*pi,100))\n",
    "# xgrid = np.arange(-(coneR+dropR), coneR+dropR, 0.1)\n",
    "# ygrid = np.arange(-(coneR+dropR), coneR+dropR, 0.1)\n",
    "# xx, yy = np.meshgrid(xgrid, ygrid)\n",
    "# mask = np.sqrt(xx**2+yy**2)<(coneR+dropR)\n",
    "# z = dgf.ProbaFall(np.sqrt(xx[mask]**2+yy[mask]**2),dropR,coneR)\n",
    "\n",
    "\n",
    "# ### Drop-Cone distance\n",
    "# rstep = (coneR+dropR)/98\n",
    "# nstep = int(np.ceil((coneR+dropR)/rstep))\n",
    "# r = np.linspace(rstep/2,coneR+dropR-3*rstep/2,nstep) # impact position\n",
    "# Pr = dgf.ProbaFall(r,dropR,coneR)\n",
    "\n",
    "\n",
    "# # probability of falling at a certain distance of the cone center\n",
    "# fig10,ax10 = plt.subplots(dpi = 500)\n",
    "# fig10.suptitle(\"Probability of falling at a distance 'r' from the center \\n dropR = \" + str(dropR) + \" mm, coneR = \" + str(coneR) + \" mm. \")\n",
    "# ax10.plot(r/(coneR+dropR)*100,Pr,'o', ms = 1)\n",
    "# ax10.set_xlabel(' r  [% of (coneR+dropR)]');\n",
    "# ax10.set_ylabel('Probability [%]');\n",
    "# fig10.tight_layout()\n",
    "\n",
    "# fig11, ax11 = plt.subplots(dpi = 500)\n",
    "# ax11.set_aspect('equal', adjustable='box')\n",
    "# ax11.set_xlabel('X')\n",
    "# ax11.set_ylabel('Y')\n",
    "# fig11.suptitle(\"Probability of falling at a distance 'r' from the center \\n dropR = \" + str(dropR) + \" mm, coneR = \" + str(coneR) + \" mm. \")\n",
    "\n",
    "\n",
    "# ax11.plot(xcircle,ycircle,'-w')\n",
    "# sc11 = ax11.scatter(xx[mask],yy[mask],c=z,s=1,cmap='jet')\n",
    "# fig11.colorbar(sc11, ax = ax11, label = 'proba (%)',shrink = 0.6)\n"
   ]
  },
  {
   "cell_type": "markdown",
   "metadata": {},
   "source": [
    "## Simulations"
   ]
  },
  {
   "cell_type": "code",
   "execution_count": 5,
   "metadata": {},
   "outputs": [],
   "source": [
    "savepath = r'D:\\Users\\laplaud\\Desktop\\PostDoc\\Data\\SplashCups\\Model\\Images'"
   ]
  },
  {
   "cell_type": "markdown",
   "metadata": {},
   "source": [
    "### Defining drops and cones"
   ]
  },
  {
   "cell_type": "code",
   "execution_count": 6,
   "metadata": {},
   "outputs": [],
   "source": [
    "# ## Definig diverse drops and cones\n",
    "\n",
    "# D0 = dgc.Drop(2.9,0.2,30,4)\n",
    "# D1 = dgc.Drop(2.9,1.5,30,4)\n",
    "# D2 = dgc.Drop(2.9,2.5,30,4)\n",
    "# D3 = dgc.Drop(2.9,3.5,30,4)\n",
    "# D4 = dgc.Drop(2.9,4.5,30,4)\n",
    "# D5 = dgc.Drop(2.9,5.5,30,4)\n",
    "# D6 = dgc.Drop(2.9,6.5,30,4)\n",
    "# D7 = dgc.Drop(2.9,7.5,30,4)\n",
    "\n",
    "# P = dgc.Cone(2.7,np.pi/2) # flat pillar\n",
    "\n",
    "# # Experimental cones\n",
    "# C45_27 = dgc.Cone(2.7,np.pi/4) \n",
    "# C45_35 = dgc.Cone(3.5,np.pi/4) \n",
    "# C45_54 = dgc.Cone(5.4,np.pi/4) \n",
    "\n",
    "# C60 = dgc.Cone(5,np.pi/3)\n",
    "# C30 = dgc.Cone(5,np.pi/6)\n",
    "\n"
   ]
  },
  {
   "cell_type": "markdown",
   "metadata": {},
   "source": [
    "### Computing impacts"
   ]
  },
  {
   "cell_type": "code",
   "execution_count": 7,
   "metadata": {},
   "outputs": [],
   "source": [
    "\n",
    "# I_D1_C45_g = C45_27.impact(D3,'Hgrad')\n",
    "# I_D1_C45_m = C45_27.impact(D3,'Hmax')\n",
    "# I_D0_C35 = C45_35.impact(D0)\n",
    "# I_D4_C45 = C45_27.impact(D2)\n",
    "\n",
    "\n",
    "# I_D4_P = P.impact(D4)\n",
    "# I_D1_C30 = C30.impact(D1)\n",
    "# I_D1_C60 = C60.impact(D1)\n",
    "\n",
    "\n",
    "# I_D2_C45 = C45_27.impact(D2)\n",
    "# I_D3_C45 = C45_27.impact(D3)\n",
    "# I_D4_C45 = C45_27.impact(D4)\n",
    "# I_D5_C45 = C45_27.impact(D5)\n",
    "# # I_D6_C45 = C45_27.impact(D6)\n",
    "# # I_D7_C45 = C45_27.impact(D7)\n"
   ]
  },
  {
   "cell_type": "markdown",
   "metadata": {},
   "source": [
    "### Plots"
   ]
  },
  {
   "cell_type": "markdown",
   "metadata": {},
   "source": [
    "#### Impact visualizations"
   ]
  },
  {
   "cell_type": "code",
   "execution_count": 8,
   "metadata": {
    "scrolled": false
   },
   "outputs": [],
   "source": [
    "\n",
    "# dgc.Cone(3,np.pi/6).impact(dgc.Drop(2.9,3.5,50,4)).plot_3Dview()\n",
    "\n",
    "# C45_27.draw(nolabels=True,dropview = 'impact',drop=D3,title='45° cone + D1')\n",
    "# I_D1_C45_g.plot_JetFrac(title='Drop fraction in the jet,origrad, cone of 45°',nolabels=True)\n",
    "# I_D1_C45_m.plot_JetFrac(title='Drop fraction in the jet,orimax, cone of 45°',nolabels=True)\n",
    "\n",
    "\n",
    "# I_D1_C45_g.plot_splash_init(veltype='full',nolabels=True,title='Cone of 45°, origrad')\n",
    "# I_D1_C45_m.plot_splash_init(veltype='full',nolabels=True,title='Cone of 45°, orimax')\n",
    "\n",
    "# I_D1_C45_g.plot_splash_traj(np.linspace(0,3.5,50),nolabels=True,title='Cone of 45°, origrad')\n",
    "# I_D1_C45_m.plot_splash_traj(np.linspace(0,3.5,50),nolabels=True,title='Cone of 45°,orimax')\n",
    "\n",
    "# I_D2_C45.plot_splash_traj(np.linspace(0,3,50),nolabels=True,title='Cone of 45°')\n",
    "\n",
    "# I_D3_C45.plot_splash_traj(np.linspace(0,2.5,50),nolabels=True,title='Cone of 45°')\n",
    "\n",
    "# I_D4_C45.plot_splash_traj(np.linspace(0,2,50),nolabels=True,title='Cone of 45°')\n",
    "\n",
    "# I_D5_C45.plot_splash_traj(np.linspace(0,3,3),nolabels=True,title='Cone of 45°')\n",
    "\n",
    "# I_D6_C45.plot_splash_traj(np.linspace(0,3,3),nolabels=True,title='Cone of 45°')\n",
    "\n",
    "\n"
   ]
  },
  {
   "cell_type": "markdown",
   "metadata": {},
   "source": [
    "#### Quantifications"
   ]
  },
  {
   "cell_type": "code",
   "execution_count": 9,
   "metadata": {
    "scrolled": false
   },
   "outputs": [],
   "source": [
    "# Angle = np.pi/4 # [rad]\n",
    "# npts = 20\n",
    "# DropDiam = 3 # Diameter in [mm]\n",
    "# ConeDiams = np.linspace(2,6,5) # Diameter in [mm]\n",
    "# # ConeDiams = [3] # Diameter in [mm]\n",
    "\n",
    "\n",
    "# isf.plotFracs(Angle,npts,DropDiam,ConeDiams)"
   ]
  },
  {
   "cell_type": "code",
   "execution_count": 10,
   "metadata": {
    "scrolled": false
   },
   "outputs": [
    {
     "name": "stdout",
     "output_type": "stream",
     "text": [
      "Computing impacts n°5041 of 5041.\n",
      "Time : 51.16 minutes\n",
      "Computing impacts n°5041 of 5041.\n",
      "Time : 11.51 minutes\n",
      "Computing impacts n°5041 of 5041.\n",
      "Time : 10.63 minutes\n",
      "Computing impacts n°2147 of 5041.\r"
     ]
    },
    {
     "ename": "IndexError",
     "evalue": "boolean index did not match indexed array along dimension 0; dimension is 222 but corresponding boolean dimension is 223",
     "output_type": "error",
     "traceback": [
      "\u001b[1;31m---------------------------------------------------------------------------\u001b[0m",
      "\u001b[1;31mIndexError\u001b[0m                                Traceback (most recent call last)",
      "Cell \u001b[1;32mIn[10], line 62\u001b[0m\n\u001b[0;32m     58\u001b[0m \u001b[38;5;28;01mfor\u001b[39;00m Rdd \u001b[38;5;129;01min\u001b[39;00m RelDropDiams_2:\n\u001b[0;32m     60\u001b[0m     RelDropDiam \u001b[38;5;241m=\u001b[39m Rdd\n\u001b[1;32m---> 62\u001b[0m     f0,f1,f2,f3,f4 \u001b[38;5;241m=\u001b[39m isf\u001b[38;5;241m.\u001b[39mFixedDropDiagrams(RelDropDiam,ConeDiam,Angles,RelOffCents,oriType)\n\u001b[0;32m     64\u001b[0m     f0\u001b[38;5;241m.\u001b[39msavefig(\u001b[38;5;124mr\u001b[39m\u001b[38;5;124m'\u001b[39m\u001b[38;5;124md:\u001b[39m\u001b[38;5;124m\\\u001b[39m\u001b[38;5;124mUsers\u001b[39m\u001b[38;5;124m\\\u001b[39m\u001b[38;5;124mlaplaud\u001b[39m\u001b[38;5;124m\\\u001b[39m\u001b[38;5;124mDesktop\u001b[39m\u001b[38;5;124m\\\u001b[39m\u001b[38;5;124mPostDoc\u001b[39m\u001b[38;5;124m\\\u001b[39m\u001b[38;5;124mCode\u001b[39m\u001b[38;5;124m\\\u001b[39m\u001b[38;5;124mDropProject_WithAna\u001b[39m\u001b[38;5;124m\\\u001b[39m\u001b[38;5;124mFigures\u001b[39m\u001b[38;5;124m\\\u001b[39m\u001b[38;5;124mJetFrac\u001b[39m\u001b[38;5;124m\\\u001b[39m\u001b[38;5;124mFxdDrDgm_\u001b[39m\u001b[38;5;124m'\u001b[39m\n\u001b[0;32m     65\u001b[0m                \u001b[38;5;241m+\u001b[39m label \u001b[38;5;241m+\u001b[39m \u001b[38;5;124m'\u001b[39m\u001b[38;5;124m_\u001b[39m\u001b[38;5;124m'\u001b[39m\u001b[38;5;241m+\u001b[39m\u001b[38;5;28mstr\u001b[39m(\u001b[38;5;28mint\u001b[39m(npts))\u001b[38;5;241m+\u001b[39m\u001b[38;5;124m'\u001b[39m\u001b[38;5;124mnpts_\u001b[39m\u001b[38;5;124m'\u001b[39m \u001b[38;5;241m+\u001b[39m \u001b[38;5;28mstr\u001b[39m(\u001b[38;5;28mround\u001b[39m(Rdd\u001b[38;5;241m*\u001b[39m\u001b[38;5;241m10\u001b[39m)\u001b[38;5;241m/\u001b[39m\u001b[38;5;241m10\u001b[39m) \u001b[38;5;241m+\u001b[39m \u001b[38;5;124m'\u001b[39m\u001b[38;5;124mSizeRatio_JetFrac.png\u001b[39m\u001b[38;5;124m'\u001b[39m)\n\u001b[0;32m     67\u001b[0m     plt\u001b[38;5;241m.\u001b[39mclose(f0)\n",
      "File \u001b[1;32m~\\Desktop\\PostDoc\\Code\\DropProject_WithAna\\JupyNBs\\../PythonFuncs\\ImpactSimulationFuncs.py:221\u001b[0m, in \u001b[0;36mFixedDropDiagrams\u001b[1;34m(RelDropDiam, ConeDiam, Angles, RelOffCents, oriType)\u001b[0m\n\u001b[0;32m    219\u001b[0m Drop \u001b[38;5;241m=\u001b[39m dgc\u001b[38;5;241m.\u001b[39mDrop(dd\u001b[38;5;241m/\u001b[39m\u001b[38;5;241m2\u001b[39m,oc,\u001b[38;5;241m50\u001b[39m,DropSpeed)\n\u001b[0;32m    220\u001b[0m Impact \u001b[38;5;241m=\u001b[39m Cone\u001b[38;5;241m.\u001b[39mimpact(Drop,oriType)\n\u001b[1;32m--> 221\u001b[0m JetFracs[i] \u001b[38;5;241m=\u001b[39m Impact\u001b[38;5;241m.\u001b[39mcompute_JetFrac()\n\u001b[0;32m    222\u001b[0m JetNRJ[i] \u001b[38;5;241m=\u001b[39m Impact\u001b[38;5;241m.\u001b[39mVolFrac\u001b[38;5;241m*\u001b[39mImpact\u001b[38;5;241m.\u001b[39mJetFrac\u001b[38;5;241m/\u001b[39m\u001b[38;5;241m100\u001b[39m\u001b[38;5;241m*\u001b[39m\u001b[38;5;241m4\u001b[39m\u001b[38;5;241m/\u001b[39m\u001b[38;5;241m3\u001b[39m\u001b[38;5;241m*\u001b[39mnp\u001b[38;5;241m.\u001b[39mpi\u001b[38;5;241m*\u001b[39m(dd\u001b[38;5;241m/\u001b[39m\u001b[38;5;241m2\u001b[39m)\u001b[38;5;241m*\u001b[39m\u001b[38;5;241m*\u001b[39m\u001b[38;5;241m3\u001b[39m\u001b[38;5;241m*\u001b[39mrho\u001b[38;5;241m*\u001b[39mDropSpeed\u001b[38;5;241m*\u001b[39m\u001b[38;5;241m*\u001b[39m\u001b[38;5;241m2\u001b[39m \u001b[38;5;66;03m# [J]\u001b[39;00m\n\u001b[0;32m    223\u001b[0m \u001b[38;5;66;03m# JetFrac[%] * VolFrac[U] * VolDrop[mm3] * WaterDensity[kg/mm3] * DropSpeed²[mm²/ms²] = JetKineticNRJ[kg.mm²/ms² = J]\u001b[39;00m\n",
      "File \u001b[1;32m~\\Desktop\\PostDoc\\Code\\DropProject_WithAna\\JupyNBs\\../PythonFuncs\\DropGeometryClasses.py:591\u001b[0m, in \u001b[0;36mImpact.compute_JetFrac\u001b[1;34m(self)\u001b[0m\n\u001b[0;32m    589\u001b[0m     inCone \u001b[38;5;241m=\u001b[39m \u001b[38;5;28mself\u001b[39m\u001b[38;5;241m.\u001b[39mCone\u001b[38;5;241m.\u001b[39mIsIn(R, Theta)\n\u001b[0;32m    590\u001b[0m     ImeshH \u001b[38;5;241m=\u001b[39m \u001b[38;5;28mself\u001b[39m\u001b[38;5;241m.\u001b[39mDrop\u001b[38;5;241m.\u001b[39mmeshH[inCone]\n\u001b[1;32m--> 591\u001b[0m     \u001b[38;5;28mself\u001b[39m\u001b[38;5;241m.\u001b[39mJetFrac  \u001b[38;5;241m=\u001b[39m np\u001b[38;5;241m.\u001b[39mround(np\u001b[38;5;241m.\u001b[39msum(ImeshH[inter\u001b[38;5;241m.\u001b[39mastype(\u001b[38;5;28mbool\u001b[39m)])\u001b[38;5;241m/\u001b[39mnp\u001b[38;5;241m.\u001b[39msum(ImeshH)\u001b[38;5;241m*\u001b[39m\u001b[38;5;241m1000\u001b[39m)\u001b[38;5;241m/\u001b[39m\u001b[38;5;241m10\u001b[39m\n\u001b[0;32m    593\u001b[0m \u001b[38;5;28;01mreturn\u001b[39;00m(\u001b[38;5;28mself\u001b[39m\u001b[38;5;241m.\u001b[39mJetFrac)\n",
      "\u001b[1;31mIndexError\u001b[0m: boolean index did not match indexed array along dimension 0; dimension is 222 but corresponding boolean dimension is 223"
     ]
    }
   ],
   "source": [
    "start_time = time.time()\n",
    "prevtime = start_time\n",
    "\n",
    "npts = 70 # XY resolution for the diagram\n",
    "ConeDiam = 2.7 # Diameter in [mm]\n",
    "\n",
    "OffCmax = 4\n",
    "\n",
    "oriType = 'Hmax'\n",
    "\n",
    "label = 'FreeScale_' + oriType\n",
    "\n",
    "######## Fixed angle diagrams\n",
    "\n",
    "AnglesDeg = np.linspace(30,60,7)\n",
    "# AnglesDeg = np.array([45,50])\n",
    "\n",
    "AnglesRad = AnglesDeg/360*2*np.pi\n",
    "\n",
    "RelDropDiams = np.linspace(0.05,OffCmax-1,npts)\n",
    "\n",
    "RelOffCents = np.linspace(0.05,OffCmax,npts)\n",
    "\n",
    "for Ad,Ar in zip(AnglesDeg,AnglesRad):\n",
    "\n",
    "    Angle = Ar # [rad]\n",
    "    \n",
    "    f0,f1,f2,f3 = isf.FixedAngleDiagrams(Angle,ConeDiam,RelDropDiams,RelOffCents,oriType)\n",
    "\n",
    "    f0.savefig(r'd:\\Users\\laplaud\\Desktop\\PostDoc\\Code\\DropProject_WithAna\\Figures\\JetFrac\\FxdADgm_'\n",
    "               + label + '_'+str(int(npts))+'npts_' + str(int(Ad)) + 'deg_JetFrac.png')\n",
    "    \n",
    "    plt.close(f0)\n",
    "    \n",
    "    f1.savefig(r'd:\\Users\\laplaud\\Desktop\\PostDoc\\Code\\DropProject_WithAna\\Figures\\VolRatio\\FxdADgm_'\n",
    "               + label + '_'+str(int(npts))+'npts_' + str(int(Ad)) + 'deg_VolRatio.png')\n",
    "    \n",
    "    plt.close(f1)\n",
    "    \n",
    "    f2.savefig(r'd:\\Users\\laplaud\\Desktop\\PostDoc\\Code\\DropProject_WithAna\\Figures\\SheetOpening\\FxdADgm_'\n",
    "               + label + '_'+str(int(npts))+'npts_' + str(int(Ad)) + 'deg_SheetOpen.png')\n",
    "    \n",
    "    plt.close(f2)\n",
    "    \n",
    "    f3.savefig(r'd:\\Users\\laplaud\\Desktop\\PostDoc\\Code\\DropProject_WithAna\\Figures\\JetNRJ\\FxdADgm_'\n",
    "               + label + '_'+str(int(npts))+'npts_' + str(int(Ad)) + 'deg_JetNRJ.png')\n",
    "    \n",
    "    plt.close(f3)\n",
    "\n",
    "  \n",
    "\n",
    "############# Fixed drop size diagrams\n",
    "\n",
    "RelDropDiams_2 = np.linspace(0.2,3,8)\n",
    "\n",
    "Angles = np.linspace(np.pi/6,np.pi/3,npts)\n",
    "\n",
    "for Rdd in RelDropDiams_2:\n",
    "\n",
    "    RelDropDiam = Rdd\n",
    "    \n",
    "    f0,f1,f2,f3,f4 = isf.FixedDropDiagrams(RelDropDiam,ConeDiam,Angles,RelOffCents,oriType)\n",
    "    \n",
    "    f0.savefig(r'd:\\Users\\laplaud\\Desktop\\PostDoc\\Code\\DropProject_WithAna\\Figures\\JetFrac\\FxdDrDgm_'\n",
    "               + label + '_'+str(int(npts))+'npts_' + str(round(Rdd*10)/10) + 'SizeRatio_JetFrac.png')\n",
    "    \n",
    "    plt.close(f0)\n",
    "    \n",
    "    f1.savefig(r'd:\\Users\\laplaud\\Desktop\\PostDoc\\Code\\DropProject_WithAna\\Figures\\VolRatio\\FxdDrDgm_'\n",
    "               + label + '_'+str(int(npts))+'npts_' + str(round(Rdd*10)/10) + 'SizeRatio_VolRatio.png')\n",
    "    \n",
    "    plt.close(f1)\n",
    "    \n",
    "    f2.savefig(r'd:\\Users\\laplaud\\Desktop\\PostDoc\\Code\\DropProject_WithAna\\Figures\\SheetOpening\\FxdDrDgm_'\n",
    "               + label + '_'+str(int(npts))+'npts_' + str(round(Rdd*10)/10) + 'SizeRatio_SheetOpen.png')\n",
    "    \n",
    "    plt.close(f2)\n",
    "    \n",
    "    f3.savefig(r'd:\\Users\\laplaud\\Desktop\\PostDoc\\Code\\DropProject_WithAna\\Figures\\JetNRJ\\FxdDrDgm_'\n",
    "               + label + '_'+str(int(npts))+'npts_' + str(round(Rdd*10)/10) + 'SizeRatio_JetNRJ.png')\n",
    "    \n",
    "    plt.close(f3)\n",
    "    \n",
    "    f4.savefig(r'd:\\Users\\laplaud\\Desktop\\PostDoc\\Code\\DropProject_WithAna\\Figures\\JetNRJ\\FxdDrDgm_'\n",
    "               + label + '_'+str(int(npts))+'npts_' + str(round(Rdd*10)/10) + 'SizeRatio_JetNRJproba.png')\n",
    "    \n",
    "    plt.close(f4)\n",
    "    \n",
    "    \n",
    "    print('\\nTime : %.02f minutes' %((time.time() - prevtime)/60))\n",
    "    prevtime = time.time()\n",
    "\n",
    "\n",
    "print(\"Total time : %.02f minutes\" % ((time.time() - start_time)/60))"
   ]
  },
  {
   "cell_type": "code",
   "execution_count": null,
   "metadata": {},
   "outputs": [],
   "source": []
  },
  {
   "cell_type": "markdown",
   "metadata": {},
   "source": [
    "## Test Zone"
   ]
  },
  {
   "cell_type": "markdown",
   "metadata": {},
   "source": [
    "### Ana's experimental data"
   ]
  },
  {
   "cell_type": "code",
   "execution_count": null,
   "metadata": {},
   "outputs": [],
   "source": [
    "# data = pd.read_csv(r'd:\\Users\\laplaud\\Desktop\\PostDoc\\Data\\SplashCups\\DataAna\\all_angles.csv')"
   ]
  },
  {
   "cell_type": "code",
   "execution_count": null,
   "metadata": {},
   "outputs": [],
   "source": [
    "# data = data.loc[(data['angle[degrees]']==45) &( data['IdealDiam[mm]']==2.7)]\n",
    "# data"
   ]
  },
  {
   "cell_type": "code",
   "execution_count": null,
   "metadata": {
    "scrolled": true
   },
   "outputs": [],
   "source": [
    "# Rds = data['DropDiam'].values/2\n",
    "# # Rcs = data['TargetDiam'].values\n",
    "# OffCs = data['OffCentering'].values\n",
    "# Names = data['Ind.1']"
   ]
  },
  {
   "cell_type": "code",
   "execution_count": null,
   "metadata": {},
   "outputs": [],
   "source": [
    "# Drops = [dgc.Drop(Rd,OffC,35,5) for Rd,OffC in zip(Rds,OffCs)]\n",
    "# C45 = dgc.Cone(2.7/2,np.pi/4)\n",
    "# Impacts = [C45.impact(D) for D in Drops]"
   ]
  },
  {
   "cell_type": "code",
   "execution_count": null,
   "metadata": {},
   "outputs": [],
   "source": [
    "# C45.impact(dgc.Drop(1.8,0.315,60,5)).plot_splash_traj(np.linspace(0,10,51),nolabels=True)"
   ]
  },
  {
   "cell_type": "code",
   "execution_count": null,
   "metadata": {
    "scrolled": false
   },
   "outputs": [],
   "source": [
    "# for t,i in zip(np.linspace(0,10,51),np.linspace(0,50,51)):\n",
    "#     f,a = C45.impact(dgc.Drop(1.8,0.315,300,5)).plot_splash_traj([t],nolabels=True)\n",
    "    \n",
    "#     f.savefig(r'd:\\Users\\laplaud\\Desktop\\PostDoc\\Code\\DropProject_WithAna\\TestFilm2\\\\' + str(i) + '.png' )\n",
    "#     plt.close(f)"
   ]
  },
  {
   "cell_type": "code",
   "execution_count": null,
   "metadata": {
    "scrolled": false
   },
   "outputs": [],
   "source": [
    "# for I,name in zip(Impacts,Names):\n",
    "#     I.plot_splash_traj(np.linspace(0,5,5),nolabels=False,title=name)\n",
    "\n",
    "# Impacts[0].plot_splash_traj(np.linspace(0,4.5,15),nolabels=False)"
   ]
  },
  {
   "cell_type": "code",
   "execution_count": null,
   "metadata": {},
   "outputs": [],
   "source": []
  }
 ],
 "metadata": {
  "kernelspec": {
   "display_name": "Python 3 (ipykernel)",
   "language": "python",
   "name": "python3"
  },
  "language_info": {
   "codemirror_mode": {
    "name": "ipython",
    "version": 3
   },
   "file_extension": ".py",
   "mimetype": "text/x-python",
   "name": "python",
   "nbconvert_exporter": "python",
   "pygments_lexer": "ipython3",
   "version": "3.11.4"
  },
  "toc": {
   "base_numbering": 1,
   "nav_menu": {},
   "number_sections": true,
   "sideBar": true,
   "skip_h1_title": true,
   "title_cell": "Table of Contents",
   "title_sidebar": "Contents",
   "toc_cell": false,
   "toc_position": {
    "height": "958.767px",
    "left": "65px",
    "top": "90px",
    "width": "413.65px"
   },
   "toc_section_display": true,
   "toc_window_display": true
  }
 },
 "nbformat": 4,
 "nbformat_minor": 4
}
