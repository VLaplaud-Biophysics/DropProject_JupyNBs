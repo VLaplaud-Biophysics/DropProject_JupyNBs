{
 "cells": [
  {
   "cell_type": "markdown",
   "metadata": {},
   "source": [
    "# Splash dynamics on a cone surface\n"
   ]
  },
  {
   "cell_type": "markdown",
   "metadata": {},
   "source": [
    "\n",
    "## Documentation and Imports\n",
    "\n",
    "\n",
    "Created on 27-07-21\n",
    "\n",
    "Author: Valentin Laplaud\n",
    "\n",
    "Formulas and graphs describing the dynamics of a drop splashing on a cone"
   ]
  },
  {
   "cell_type": "code",
   "execution_count": 1,
   "metadata": {},
   "outputs": [],
   "source": [
    "# plotting stuff\n",
    "import matplotlib as mpl\n",
    "mpl.use('TkAgg')\n",
    "%matplotlib inline\n",
    "\n",
    "COLOR = 'white'\n",
    "COLOR2 = 'black'\n",
    "\n",
    "mpl.rcParams['text.color'] = COLOR\n",
    "mpl.rcParams['axes.labelcolor'] = COLOR\n",
    "mpl.rcParams['xtick.color'] = COLOR\n",
    "mpl.rcParams['ytick.color'] = COLOR\n",
    "mpl.rcParams['axes.edgecolor'] = COLOR\n",
    "\n",
    "mpl.rcParams[\"figure.facecolor\"] = COLOR2\n",
    "mpl.rcParams[\"axes.facecolor\"] = COLOR2\n",
    "mpl.rcParams[\"savefig.facecolor\"] = COLOR2\n",
    "\n",
    "import matplotlib.pyplot as plt\n",
    "from cycler import cycler\n",
    "\n",
    "\n",
    "# numbers handling\n",
    "import numpy as np\n",
    "from numpy import pi\n",
    "import pandas as pd\n",
    "\n",
    "# signal processing \n",
    "from scipy.signal import savgol_filter, correlate, correlation_lags\n",
    "from scipy.interpolate import interp1d\n",
    "\n",
    "\n",
    "# to hide known warnings\n",
    "import warnings\n",
    "warnings.filterwarnings(\"ignore\")\n",
    "\n",
    "# General system functions\n",
    "import os\n",
    "import shutil\n",
    "import sys\n",
    "\n",
    "import time\n",
    "\n",
    "# my functions\n",
    "sys.path.append('../PythonFuncs/')\n",
    "import VallapFunc_DP as vf\n",
    "import DropGeometryClasses as dgc\n",
    "import DropGeometryFuncs as dgf\n"
   ]
  },
  {
   "cell_type": "markdown",
   "metadata": {},
   "source": [
    "## Drop impact characteristics"
   ]
  },
  {
   "cell_type": "markdown",
   "metadata": {
    "heading_collapsed": true
   },
   "source": [
    "### Top view schematics"
   ]
  },
  {
   "cell_type": "code",
   "execution_count": 2,
   "metadata": {
    "hidden": true
   },
   "outputs": [],
   "source": [
    "# Xc = 0\n",
    "# Yc = 0\n",
    "# Rc = 5\n",
    "\n",
    "# Xd = 6\n",
    "# Yd = 0\n",
    "# Rd = 4\n",
    "\n",
    "# r = vf.dist(Xd,Yd,Xc,Yc)\n",
    "\n",
    "\n",
    "# tx = np.linspace(0,2*pi,100)\n",
    "\n",
    "# fig,ax = plt.subplots(dpi=600)\n",
    "# ax.set_aspect('equal', adjustable='box') \n",
    "# ax.axis('off')\n",
    "\n",
    "# # Cone\n",
    "# ax.plot(Xc,Yc,'ow',ms = 2)\n",
    "# ax.plot(Xc + Rc*np.cos(tx),Yc + Rc*np.sin(tx), '-w')\n",
    "# ax.plot([Xc, Xc + Rc*np.cos(tx[30])], [Yc, Yc + Rc*np.sin(tx[30])], '--w', lw = 0.5)\n",
    "# ax.text(Xc + Rc*np.cos(tx[36])/2,Yc+ Rc*np.sin(tx[36])/2, 'Rc', c = 'w', size = Rc*2)\n",
    "\n",
    "\n",
    "# # Drop\n",
    "# ax.plot(Xd,Yd,'ob',ms = 2)\n",
    "# ax.plot(Xd + Rd*np.cos(tx),Yd + Rd*np.sin(tx), '-b')\n",
    "# ax.plot([Xd, Xd + Rd*np.cos(tx[90])], [Yd, Yd + Rd*np.sin(tx[90])], '--b', lw = 0.5)\n",
    "# ax.text(Xd + Rd*np.cos(tx[93])/2,Yd + Rd*np.sin(tx[93])/2, 'Rd', c = 'b', size = Rd*2)\n",
    "\n",
    "# # Geometry definition\n",
    "# ax.plot([Xc, Xd], [Yc, Yd], '--r', lw = 0.5, zorder = -1)\n",
    "# ax.text((Xc+Xd)/2,(Yc+Yd)/2+Rd/10,'r', c= 'r', size = 10);\n"
   ]
  },
  {
   "cell_type": "markdown",
   "metadata": {
    "heading_collapsed": true
   },
   "source": [
    "### Adimensional numbers"
   ]
  },
  {
   "cell_type": "code",
   "execution_count": 3,
   "metadata": {
    "hidden": true
   },
   "outputs": [],
   "source": [
    "# ### Parameters\n",
    "# V = 4 # [m/s] drop impact speed\n",
    "# L = 0.003 # [m] cone diameter\n",
    "# rho = 1000 # [kg/m3] water density\n",
    "# mu = 0.001 # [Pa.s] water viscosity\n",
    "# gamma = 0.07 # [N/m] water surface tension\n",
    "# g = 9.8 # [m/s²] gravity constant\n",
    "\n",
    "# ### Adimensional numbers\n",
    "\n",
    "# # Reynolds (viscosity vs. intertia)\n",
    "# Re = rho*V*L/mu\n",
    "# print('Reynolds = ' + str(Re))\n",
    "\n",
    "# # Weber (capilarity vs. inertia)\n",
    "# We = rho*L*V**2/gamma\n",
    "# print('Weber = ' + str(We))\n",
    "\n",
    "# # Froude (gravity vs. intertia)\n",
    "# Fr = V/np.sqrt(g*L)\n",
    "# print('Froude = ' + str(Fr))"
   ]
  },
  {
   "cell_type": "markdown",
   "metadata": {
    "heading_collapsed": true
   },
   "source": [
    "### Plots of fall probability\n"
   ]
  },
  {
   "cell_type": "code",
   "execution_count": 4,
   "metadata": {
    "hidden": true,
    "scrolled": false
   },
   "outputs": [],
   "source": [
    "\n",
    "# dropR = 3\n",
    "# coneR = 4 # Cone radius\n",
    "# Alpha = pi/4 # Cone vertical angle\n",
    "\n",
    "# xcircle = coneR*np.cos(np.linspace(0,2*pi,100))\n",
    "# ycircle = coneR*np.sin(np.linspace(0,2*pi,100))\n",
    "# xgrid = np.arange(-(coneR+dropR), coneR+dropR, 0.1)\n",
    "# ygrid = np.arange(-(coneR+dropR), coneR+dropR, 0.1)\n",
    "# xx, yy = np.meshgrid(xgrid, ygrid)\n",
    "# mask = np.sqrt(xx**2+yy**2)<(coneR+dropR)\n",
    "# z = dgf.ProbaFall(np.sqrt(xx[mask]**2+yy[mask]**2),dropR,coneR)\n",
    "\n",
    "\n",
    "# ### Drop-Cone distance\n",
    "# rstep = (coneR+dropR)/98\n",
    "# nstep = int(np.ceil((coneR+dropR)/rstep))\n",
    "# r = np.linspace(rstep/2,coneR+dropR-3*rstep/2,nstep) # impact position\n",
    "# Pr = dgf.ProbaFall(r,dropR,coneR)\n",
    "\n",
    "\n",
    "# # probability of falling at a certain distance of the cone center\n",
    "# fig10,ax10 = plt.subplots(dpi = 500)\n",
    "# fig10.suptitle(\"Probability of falling at a distance 'r' from the center \\n dropR = \" + str(dropR) + \" mm, coneR = \" + str(coneR) + \" mm. \")\n",
    "# ax10.plot(r/(coneR+dropR)*100,Pr,'o', ms = 1)\n",
    "# ax10.set_xlabel(' r  [% of (coneR+dropR)]');\n",
    "# ax10.set_ylabel('Probability [%]');\n",
    "# fig10.tight_layout()\n",
    "\n",
    "# fig11, ax11 = plt.subplots(dpi = 500)\n",
    "# ax11.set_aspect('equal', adjustable='box')\n",
    "# ax11.set_xlabel('X')\n",
    "# ax11.set_ylabel('Y')\n",
    "# fig11.suptitle(\"Probability of falling at a distance 'r' from the center \\n dropR = \" + str(dropR) + \" mm, coneR = \" + str(coneR) + \" mm. \")\n",
    "\n",
    "\n",
    "# ax11.plot(xcircle,ycircle,'-w')\n",
    "# sc11 = ax11.scatter(xx[mask],yy[mask],c=z,s=1,cmap='jet')\n",
    "# fig11.colorbar(sc11, ax = ax11, label = 'proba (%)',shrink = 0.6)\n"
   ]
  },
  {
   "cell_type": "markdown",
   "metadata": {},
   "source": [
    "## Plots"
   ]
  },
  {
   "cell_type": "code",
   "execution_count": 5,
   "metadata": {},
   "outputs": [],
   "source": [
    "savepath = r'D:\\Users\\laplaud\\Desktop\\PostDoc\\Data\\SplashCups\\Model\\Images'"
   ]
  },
  {
   "cell_type": "markdown",
   "metadata": {},
   "source": [
    "#### Simulations"
   ]
  },
  {
   "cell_type": "code",
   "execution_count": 6,
   "metadata": {
    "scrolled": false
   },
   "outputs": [],
   "source": [
    "\n",
    "# fig2,ax2 = plt.subplots(dpi = 500)\n",
    "# fig2.suptitle(\"Fraction of drop volume impacting the cone\\n dropR = \" + str(dropR) + \" mm, coneR = \" + str(coneR) + \" mm. \")\n",
    "# ax2.plot(r/(coneR+dropR)*100,volFrac(r,dropR,coneR),'o', ms = 1)\n",
    "# ax2.set_xlabel(' r  [% of (coneR+dropR)]');\n",
    "# ax2.set_ylabel('Volume fraction [%]');\n",
    "\n",
    "# JVFrac = JetVolFrac2D(coneR,Alpha,dropR,r,300)\n",
    "# JVFrac3D = JetVolFrac3D(coneR,Alpha,dropR,r,300)\n",
    "# DropVolFrac = volFrac(r,dropR,coneR)\n",
    "\n",
    "# fig3,ax3 = plt.subplots(dpi = 500)\n",
    "# fig3.suptitle(\"Fraction of impacting volume forming a jet\\n dropR = \" + str(dropR) + \" mm, coneR = \" + str(coneR) + \" mm. \")\n",
    "# ax3.plot(r/(coneR+dropR)*100,JVFrac,'ro',ms = 1,label='Simulation');\n",
    "# #ax3.plot(r,JVFrac3D,'mo',ms = 1,label='Simulation 3D');\n",
    "# ax3.plot(r[r>coneR]/(coneR+dropR)*100,splashFracJet(r[r>coneR],coneR,dropR,Alpha),'--',lw=1.5,label='Analytical solution');\n",
    "# ax3.legend();\n",
    "# ax3.set_xlabel(' r  [% of (coneR+dropR)]');\n",
    "# ax3.set_ylabel('Volume fraction [%]');\n",
    "\n",
    "# fig31,ax31 = plt.subplots(dpi = 500)\n",
    "# fig31.suptitle(\"Fraction of impacting volume forming a jet\\n dropR = \" + str(dropR) + \" mm, coneR = \" + str(coneR) + \" mm. \")\n",
    "# ax31.plot(r/(coneR+dropR)*100,JVFrac,'ro',ms = 1,label='Simulation 2D');\n",
    "# ax31.plot(r/(coneR+dropR)*100,JVFrac3D,'mo',ms = 1,label='Simulation 3D');\n",
    "# ax31.plot(r[r>coneR]/(coneR+dropR)*100,splashFracJet(r[r>coneR],coneR,dropR,Alpha),'--',lw=1.5,label='Analytical solution');\n",
    "# ax31.legend();\n",
    "# ax31.set_xlabel(' r  [% of (coneR+dropR)]');\n",
    "# ax31.set_ylabel('Volume fraction [%]');\n",
    "\n",
    "\n",
    "# fig4,ax4 = plt.subplots(dpi = 500)\n",
    "# fig4.suptitle(\"Drop volume fraction in the jet\\n dropR = \" + str(dropR) + \" mm, coneR = \" + str(coneR) + \" mm. \")\n",
    "# ax4.plot(r/(coneR+dropR)*100,volFrac(r,dropR,coneR)*JVFrac3D/100,'o',ms = 1)\n",
    "# ax4.set_xlabel(' r  [% of (coneR+dropR)]');\n",
    "# ax4.set_ylabel('Drop volume fraction in the jet [%]');\n",
    "\n",
    "\n",
    "# fig41,ax41 = plt.subplots(dpi = 500)\n",
    "# fig41.suptitle(\"Proba * Drop volume fraction in the jet\\n dropR = \" + str(dropR) + \" mm, coneR = \" + str(coneR) + \" mm. \")\n",
    "# ax41.plot(r/(coneR+dropR)*100,volFrac(r,dropR,coneR)*JVFrac3D/100*Pr,'o',ms = 1)\n",
    "# ax41.set_xlabel(' r  [% of (coneR+dropR)]');\n",
    "# ax41.set_ylabel('Proba * Drop volume fraction in the jet [%]');\n"
   ]
  },
  {
   "cell_type": "markdown",
   "metadata": {},
   "source": [
    "##### Drop size variations"
   ]
  },
  {
   "cell_type": "code",
   "execution_count": 7,
   "metadata": {},
   "outputs": [],
   "source": [
    "# Alpha = pi/4 # Cone vertical angle\n",
    "\n",
    "# coneR = 3 # cone radius \n",
    "# dropRs = np.round(np.multiply([1/5, 1/4, 1/3, 1/2, 1, 2, 3, 4, 5],coneR)*100)/100 # Drop radii\n",
    "\n",
    "# coneR = 1 # cone radius \n",
    "# dropRs = np.round(np.multiply([0.5, 0.75, 1, 1.25, 1.5, 1.75, 2],coneR)*100)/100 # Drop radii\n",
    "\n",
    "\n",
    "# fig2,ax2 = plt.subplots(dpi = 500)\n",
    "# fig2.suptitle(\"Fraction of drop volume impacting the cone\\n coneR = \" + str(coneR) + \" mm\")\n",
    "# ax2.set_xlabel(' r  [% of (coneR+dropR)]');\n",
    "# ax2.set_ylabel('Volume fraction [%]');\n",
    "\n",
    "# fig3,ax3 = plt.subplots(dpi = 500)\n",
    "# fig3.suptitle(\"Fraction of impacting volume forming a jet\\n coneR = \" + str(coneR) + \" mm\")\n",
    "# ax3.set_xlabel(' r  [% of (coneR+dropR)]');\n",
    "# ax3.set_ylabel('Volume fraction [%]');\n",
    "\n",
    "# fig4,ax4 = plt.subplots(dpi = 500)\n",
    "# fig4.suptitle(\"Drop volume fraction in the jet\\n coneR = \" + str(coneR) + \" mm\")\n",
    "# ax4.set_xlabel(' r  [% of (coneR+dropR)]');\n",
    "# ax4.set_ylabel('Drop volume fraction in the jet [%]');\n",
    "\n",
    "# fig5,ax5 = plt.subplots(dpi = 500)\n",
    "# fig5.suptitle(\"Real volume in the jet\\n coneR = \" + str(coneR) + \" mm\")\n",
    "# ax5.set_xlabel(' r  [% of (coneR+dropR)]');\n",
    "# ax5.set_ylabel('Volume in the jet [mm**3]');\n",
    "    \n",
    "\n",
    "# for dropR in dropRs:\n",
    "\n",
    "#     ### Drop-Cone distance   \n",
    "#     rstep = (coneR+dropR)/98\n",
    "#     nstep = int(np.ceil((coneR+dropR)/rstep))\n",
    "#     r = np.linspace(rstep/2,coneR+dropR-3*rstep/2,nstep) # impact position\n",
    "        \n",
    "#     rRef = r/(coneR+dropR)*100\n",
    "    \n",
    "#     # simu\n",
    "#     JVFrac = JetVolFrac3D(coneR,Alpha,dropR,r,1000)\n",
    "#     DropVolFrac = volFrac(r,dropR,coneR)\n",
    "    \n",
    "#     # plot\n",
    "#     ax2.plot(rRef,DropVolFrac,'o-', ms = 1,lw=1,label = 'dropR = ' + str(dropR) + ' mm')\n",
    "\n",
    "#     ax3.plot(rRef,JVFrac,'o-',ms = 1,lw=1, label = 'dropR = ' + str(dropR) + ' mm');\n",
    "\n",
    "#     ax4.plot(rRef,DropVolFrac*JVFrac/100,'o-',ms = 1,lw=1, label = 'dropR = ' + str(dropR) + ' mm')\n",
    "\n",
    "#     ax5.plot(rRef,DropVolFrac*JVFrac/10000*dropR**3*4/3*np.pi,'o-',ms = 1,lw=1, label = 'dropR = ' + str(dropR) + ' mm')\n",
    "\n",
    "\n",
    "# ax2.legend(fontsize = 'xx-small');\n",
    "# ax3.legend(fontsize = 'xx-small');\n",
    "# ax4.legend(fontsize = 'xx-small');\n",
    "# ax5.legend(fontsize = 'xx-small');\n",
    "# plt.show()\n"
   ]
  },
  {
   "cell_type": "markdown",
   "metadata": {},
   "source": [
    "## Test Zone"
   ]
  },
  {
   "cell_type": "markdown",
   "metadata": {},
   "source": [
    "### Classes "
   ]
  },
  {
   "cell_type": "markdown",
   "metadata": {},
   "source": [
    "#### Tests and illustrations"
   ]
  },
  {
   "cell_type": "code",
   "execution_count": 8,
   "metadata": {},
   "outputs": [],
   "source": [
    "## Definig diverse drops and cones\n",
    "\n",
    "D0 = dgc.Drop(2.9,0.2,30,4)\n",
    "D1 = dgc.Drop(2.9,1.5,30,4)\n",
    "D2 = dgc.Drop(2.9,2.5,30,4)\n",
    "D3 = dgc.Drop(2.9,3.5,30,4)\n",
    "D4 = dgc.Drop(2.9,4.5,30,4)\n",
    "D5 = dgc.Drop(2.9,5.5,30,4)\n",
    "D6 = dgc.Drop(2.9,6.5,30,4)\n",
    "D7 = dgc.Drop(2.9,7.5,30,4)\n",
    "\n",
    "P = dgc.Cone(2.7,np.pi/2) # flat pillar\n",
    "\n",
    "# Experimental cones\n",
    "C45_27 = dgc.Cone(2.7,np.pi/4) \n",
    "C45_35 = dgc.Cone(3.5,np.pi/4) \n",
    "C45_54 = dgc.Cone(5.4,np.pi/4) \n",
    "\n",
    "C60 = dgc.Cone(5,np.pi/3)\n",
    "C30 = dgc.Cone(5,np.pi/6)\n",
    "\n"
   ]
  },
  {
   "cell_type": "code",
   "execution_count": 9,
   "metadata": {},
   "outputs": [],
   "source": [
    "## Computing impacts\n",
    "\n",
    "# I_D0_C45 = C45_35.impact(D0)\n",
    "# I_D1_C45 = C45_27.impact(D1)\n",
    "\n",
    "dgc.Cone(3,np.pi/6) .impact(dgc.Drop(2.9,3.5,50,4)).plot_3Dview()\n",
    "\n",
    "# # I_D4_P = P.impact(D4)\n",
    "# # I_D1_C30 = C30.impact(D1)\n",
    "# # I_D1_C60 = C60.impact(D1)\n",
    "\n",
    "\n",
    "# I_D2_C45 = C45_27.impact(D2)\n",
    "# I_D3_C45 = C45_27.impact(D3)\n",
    "# I_D4_C45 = C45_27.impact(D4)\n",
    "# I_D5_C45 = C45_27.impact(D5)\n",
    "# I_D6_C45 = C45_27.impact(D6)\n",
    "# I_D7_C45 = C45_27.impact(D7)\n"
   ]
  },
  {
   "cell_type": "code",
   "execution_count": 10,
   "metadata": {
    "scrolled": false
   },
   "outputs": [],
   "source": [
    "# # Plotting stuff\n",
    "# # C45_27.draw(nolabels=True,dropview = 'impact',drop=D3,title='45° cone + D1')\n",
    "# # I_D1_C45.plot_JetFrac(title='Drop fraction in the jet, cone of 45°',nolabels=True)\n",
    "\n",
    "\n",
    "# I_D1_C45.plot_splash_traj(np.linspace(0,3.5,50),nolabels=True,title='Cone of 45°')\n",
    "\n",
    "# I_D2_C45.plot_splash_traj(np.linspace(0,3,50),nolabels=True,title='Cone of 45°')\n",
    "\n",
    "# I_D3_C45.plot_splash_traj(np.linspace(0,2.5,50),nolabels=True,title='Cone of 45°')\n",
    "\n",
    "# I_D4_C45.plot_splash_traj(np.linspace(0,2,50),nolabels=True,title='Cone of 45°')\n",
    "\n",
    "# # I_D5_C45.plot_splash_traj(np.linspace(0,3,3),nolabels=True,title='Cone of 45°')\n",
    "\n",
    "# # I_D6_C45.plot_splash_traj(np.linspace(0,3,3),nolabels=True,title='Cone of 45°')\n",
    "\n",
    "\n"
   ]
  },
  {
   "cell_type": "markdown",
   "metadata": {},
   "source": [
    "#### Drop volume fraction in jets"
   ]
  },
  {
   "cell_type": "code",
   "execution_count": 11,
   "metadata": {},
   "outputs": [],
   "source": [
    "# fig,ax = plt.subplots(dpi =200)\n",
    "# fig.suptitle('Drop of 3mm diameter')\n",
    "# ax.set_xlabel('Off-centering/Cone radius')\n",
    "# ax.set_ylabel('Drop fraction in the jet (%)')\n",
    "\n",
    "# fig1,ax1 = plt.subplots(dpi =200)\n",
    "# fig1.suptitle('Drop of 3mm diameter')\n",
    "# ax1.set_xlabel('Off-centering/Cone radius')\n",
    "# ax1.set_ylabel('Impact fraction in the jet (%)')\n",
    "\n",
    "\n",
    "# # # Cones\n",
    "# # C45_27 = dgc.Cone(2.7,np.pi/4)\n",
    "# # C45_54 = dgc.Cone(5.4,np.pi/4)\n",
    "\n",
    "# # OffCents_27 = np.linspace(0.5,5,10)\n",
    "# # Drops_27 = [dgc.Drop(2.9,x,50,4) for x in OffCents_27]\n",
    "# # Impacts_27 = [C45_27.impact(D) for D in Drops_27]\n",
    "# # JetFracs_27 = [I.JetFrac for I in Impacts_27]\n",
    "# # DropFracs_27 = [I.JetFrac*I.VolFrac/100 for I in Impacts_27]\n",
    "\n",
    "# ax.plot(OffCents_27/2.7,DropFracs_27,'-*',label='Cone 2.7 mm')\n",
    "# ax1.plot(OffCents_27/2.7,JetFracs_27,'-*',label='Cone 2.7 mm')\n",
    "\n",
    "# # OffCents_54 = np.linspace(0.5,8,10)\n",
    "# # Drops_54 = [dgc.Drop(2.9,x,50,4) for x in OffCents_54]\n",
    "# # Impacts_54 = [C45_54.impact(D) for D in Drops_54]\n",
    "# # DropFracs_54 = [I.JetFrac*I.VolFrac/100 for I in Impacts_54]\n",
    "# # JetFracs_54 = [I.JetFrac for I in Impacts_54]\n",
    "\n",
    "# ax.plot(OffCents_54/5.4,DropFracs_54,'-*',label='Cone 5.4 mm')\n",
    "# ax1.plot(OffCents_54/5.4,JetFracs_54,'-*',label='Cone 5.4 mm')\n",
    "\n",
    "# plt.legend()\n"
   ]
  },
  {
   "cell_type": "code",
   "execution_count": 12,
   "metadata": {
    "scrolled": true
   },
   "outputs": [],
   "source": [
    "\n",
    "# def PhaseDiagram(nPts,coneR,Alphas):\n",
    "    \n",
    "#     for Alpha in Alphas:\n",
    "        \n",
    "#         print('\\nAlpha = ' + str(Alpha/(2*np.pi)*360) + '°')\n",
    "        \n",
    "        \n",
    "#         Pts = np.linspace(0,nPts-1,nPts).astype(int)\n",
    "\n",
    "#         dropX = np.linspace(0,3*coneR,nPts) # Drop center X (in cone configuration)\n",
    "#         dropR = np.linspace(coneR/2,2*coneR,nPts) # Drop radius (cone config)\n",
    "\n",
    "#         dropXgrid,dropRgrid = np.meshgrid(dropX,dropR)\n",
    "\n",
    "#         splashType = np.empty((nPts,nPts))\n",
    "\n",
    "#         # criterion for splash sorting based on fraction of rop volume impacting the cone, \n",
    "#         # impact volume fraction in the jet and geometrical parameters\n",
    "#         def sortSplash(JVF,DF,coneR,dropR,dropX):\n",
    "\n",
    "#             splashType = -1 # undefined\n",
    "\n",
    "#             if JVF>=90: # 90% or more of impacting volume in the jet\n",
    "#                 splashType = 1 # Jet\n",
    "\n",
    "#             elif JVF>=70: # 70-95% of impacting volume in the jet\n",
    "#                 splashType = 2 # Transition SJ\n",
    "\n",
    "#             elif DF <= 50: # 70% or more of the impacting volume is in the splash\n",
    "#                 # and maximum 50% of drop volume impacts the cone\n",
    "#                 splashType = 3 # Bell\n",
    "\n",
    "#             else:\n",
    "#                 splashType = 4 # Crown\n",
    "\n",
    "#             return splashType\n",
    "\n",
    "#         for i in Pts:\n",
    "#             for j in Pts:\n",
    "\n",
    "#                 dx = dropX[i]\n",
    "#                 dr = dropR[j]\n",
    "\n",
    "#                 text = 'Computing for : ConeR = ' + str(coneR) + ', dropR = ' + str(dr) + ', Offcent = ' + str(dx)\n",
    "\n",
    "#                 print(text.ljust(10), end= '\\r')\n",
    "\n",
    "#                 if ((dx/dr)-(coneR/dr))<1:\n",
    "\n",
    "#                     DF = volFrac([dx],dr,coneR) # volFrac(r,Rd,Rc)\n",
    "#                     JVF = JetVolFrac3D(coneR,Alpha,dr,[dx],100) # JetVolFrac3D(coneR,Alpha,dropR,Xdrops,nptmesh)\n",
    "\n",
    "#                     splashType[j,i] = sortSplash(JVF,DF,coneR,dr,dx)\n",
    "\n",
    "#                 else:\n",
    "#                     splashType[j,i] = 0 # no impact\n",
    "\n",
    "\n",
    "#         fig,ax = plt.subplots(dpi=150,figsize = (7,6)) \n",
    "#         ax.set_title('Alpha = ' + str(Alpha/(2*np.pi)*360) + '°')\n",
    "#         sc = ax.scatter(dropXgrid/coneR,dropRgrid/coneR,c=splashType,cmap='jet')\n",
    "#         ax.set_xlabel('Offcent/ConeRadius')\n",
    "#         ax.set_ylabel('DropSize/ConeSize')\n",
    "    \n",
    "#         cbar = plt.colorbar(sc, ticks = [-1,0,1,2,3,4])\n",
    "#         cbar.ax.set_yticklabels(['undefined','No impact', 'Jet', 'Transition', 'Bell sheet','Crown sheet']);  # vertically oriented colorbar\n",
    "#         fig.tight_layout()\n",
    "            "
   ]
  },
  {
   "cell_type": "code",
   "execution_count": 13,
   "metadata": {},
   "outputs": [],
   "source": [
    "# import pandas as pd\n",
    "# data = pd.read_csv(r'd:\\Users\\laplaud\\Desktop\\PostDoc\\Data\\SplashCups\\DataAna\\all_angles.csv')"
   ]
  },
  {
   "cell_type": "code",
   "execution_count": 14,
   "metadata": {},
   "outputs": [],
   "source": [
    "# data = data.loc[(data['angle[degrees]']==45) &( data['IdealDiam[mm]']==2.7)]\n",
    "# data"
   ]
  },
  {
   "cell_type": "code",
   "execution_count": 15,
   "metadata": {
    "scrolled": true
   },
   "outputs": [],
   "source": [
    "# Rds = data['DropDiam'].values/2\n",
    "# # Rcs = data['TargetDiam'].values\n",
    "# OffCs = data['OffCentering'].values\n",
    "# Names = data['Ind.1']"
   ]
  },
  {
   "cell_type": "code",
   "execution_count": 16,
   "metadata": {},
   "outputs": [],
   "source": [
    "# Drops = [dgc.Drop(Rd,OffC,35,5) for Rd,OffC in zip(Rds,OffCs)]\n",
    "# C45 = dgc.Cone(2.7/2,np.pi/4)\n",
    "# Impacts = [C45.impact(D) for D in Drops]"
   ]
  },
  {
   "cell_type": "code",
   "execution_count": 17,
   "metadata": {},
   "outputs": [],
   "source": [
    "# C45.impact(dgc.Drop(1.8,0.315,60,5)).plot_splash_traj(np.linspace(0,10,51),nolabels=True)"
   ]
  },
  {
   "cell_type": "code",
   "execution_count": 18,
   "metadata": {
    "scrolled": false
   },
   "outputs": [],
   "source": [
    "# for t,i in zip(np.linspace(0,10,51),np.linspace(0,50,51)):\n",
    "#     f,a = C45.impact(dgc.Drop(1.8,0.315,300,5)).plot_splash_traj([t],nolabels=True)\n",
    "    \n",
    "#     f.savefig(r'd:\\Users\\laplaud\\Desktop\\PostDoc\\Code\\DropProject_WithAna\\TestFilm2\\\\' + str(i) + '.png' )\n",
    "#     plt.close(f)"
   ]
  },
  {
   "cell_type": "code",
   "execution_count": 19,
   "metadata": {
    "scrolled": false
   },
   "outputs": [],
   "source": [
    "# for I,name in zip(Impacts,Names):\n",
    "#     I.plot_splash_traj(np.linspace(0,5,5),nolabels=False,title=name)\n",
    "\n",
    "# Impacts[0].plot_splash_traj(np.linspace(0,4.5,15),nolabels=False)"
   ]
  },
  {
   "cell_type": "code",
   "execution_count": null,
   "metadata": {},
   "outputs": [],
   "source": []
  }
 ],
 "metadata": {
  "kernelspec": {
   "display_name": "Python 3 (ipykernel)",
   "language": "python",
   "name": "python3"
  },
  "language_info": {
   "codemirror_mode": {
    "name": "ipython",
    "version": 3
   },
   "file_extension": ".py",
   "mimetype": "text/x-python",
   "name": "python",
   "nbconvert_exporter": "python",
   "pygments_lexer": "ipython3",
   "version": "3.11.4"
  },
  "toc": {
   "base_numbering": 1,
   "nav_menu": {},
   "number_sections": true,
   "sideBar": true,
   "skip_h1_title": true,
   "title_cell": "Table of Contents",
   "title_sidebar": "Contents",
   "toc_cell": false,
   "toc_position": {
    "height": "958.767px",
    "left": "65px",
    "top": "90px",
    "width": "413.65px"
   },
   "toc_section_display": true,
   "toc_window_display": true
  }
 },
 "nbformat": 4,
 "nbformat_minor": 4
}
